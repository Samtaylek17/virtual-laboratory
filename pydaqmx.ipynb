{
 "cells": [
  {
   "cell_type": "code",
   "execution_count": 1,
   "id": "db351924",
   "metadata": {},
   "outputs": [],
   "source": [
    "from PyDAQmx.DAQmxTypes import *"
   ]
  },
  {
   "cell_type": "code",
   "execution_count": 2,
   "id": "dc587286",
   "metadata": {},
   "outputs": [
    {
     "name": "stdout",
     "output_type": "stream",
     "text": [
      "Acquired 1000 points\n"
     ]
    }
   ],
   "source": [
    "from PyDAQmx import *\n",
    "import numpy\n",
    "\n",
    "analog_input = Task()\n",
    "read = int32()\n",
    "data = numpy.zeros((1000,), dtype=numpy.float64)\n",
    "\n",
    "# DAQmx Configure Code\n",
    "analog_input.CreateAIVoltageChan(\"myDAQ1/ai0\",\"\",DAQmx_Val_Cfg_Default,-10.0,10.0,DAQmx_Val_Volts,None)\n",
    "analog_input.CfgSampClkTiming(\"\",10000.0,DAQmx_Val_Rising,DAQmx_Val_FiniteSamps,1000)\n",
    "\n",
    "# DAQmx Start Code\n",
    "analog_input.StartTask()\n",
    "\n",
    "# DAQmx Read Code\n",
    "analog_input.ReadAnalogF64(1000,10.0,DAQmx_Val_GroupByChannel,data,1000,byref(read),None)\n",
    "\n",
    "print (\"Acquired %d points\"%read.value)"
   ]
  },
  {
   "cell_type": "code",
   "execution_count": 4,
   "id": "6acc9eb4",
   "metadata": {},
   "outputs": [],
   "source": [
    "import nidaqmx \n",
    "\n",
    "task = nidaqmx.Task()\n",
    "task.ao_channels.add_ao_voltage_chan('mydaq1/ao0','mychannel',0,5)\n",
    "task.start()\n",
    "\n",
    "value = 2\n",
    "task.write(value)\n",
    "\n",
    "task.stop()\n",
    "task.close()"
   ]
  },
  {
   "cell_type": "code",
   "execution_count": 10,
   "id": "9d76aebb",
   "metadata": {},
   "outputs": [
    {
     "name": "stdout",
     "output_type": "stream",
     "text": [
      "9.025149552704534\n"
     ]
    }
   ],
   "source": [
    "import nidaqmx\n",
    "\n",
    "task = nidaqmx.Task()\n",
    "task.ai_channels.add_ai_voltage_chan('mydaq1/ai0')\n",
    "task.start()\n",
    "\n",
    "value = task.read()\n",
    "print(value)\n",
    "\n",
    "task.stop()\n",
    "task.close()"
   ]
  },
  {
   "cell_type": "code",
   "execution_count": 14,
   "id": "2ecb3c00",
   "metadata": {},
   "outputs": [
    {
     "name": "stdout",
     "output_type": "stream",
     "text": [
      "8.809948225563858\n"
     ]
    }
   ],
   "source": [
    "import nidaqmx\n",
    "\n",
    "task = nidaqmx.Task()\n",
    "task.ai_channels.add_ai_voltage_chan('mydaq1/ai0', min_val=0, max_val=10)\n",
    "task.start()\n",
    "\n",
    "value = task.read()\n",
    "print(value)\n",
    "\n",
    "task.stop()\n",
    "task.close()"
   ]
  },
  {
   "cell_type": "code",
   "execution_count": null,
   "id": "3739b4ab",
   "metadata": {},
   "outputs": [],
   "source": []
  }
 ],
 "metadata": {
  "kernelspec": {
   "display_name": "Python 3",
   "language": "python",
   "name": "python3"
  },
  "language_info": {
   "codemirror_mode": {
    "name": "ipython",
    "version": 3
   },
   "file_extension": ".py",
   "mimetype": "text/x-python",
   "name": "python",
   "nbconvert_exporter": "python",
   "pygments_lexer": "ipython3",
   "version": "3.8.8"
  },
  "latex_envs": {
   "LaTeX_envs_menu_present": true,
   "autoclose": false,
   "autocomplete": true,
   "bibliofile": "biblio.bib",
   "cite_by": "apalike",
   "current_citInitial": 1,
   "eqLabelWithNumbers": true,
   "eqNumInitial": 1,
   "hotkeys": {
    "equation": "Ctrl-E",
    "itemize": "Ctrl-I"
   },
   "labels_anchors": false,
   "latex_user_defs": false,
   "report_style_numbering": false,
   "user_envs_cfg": false
  }
 },
 "nbformat": 4,
 "nbformat_minor": 5
}
