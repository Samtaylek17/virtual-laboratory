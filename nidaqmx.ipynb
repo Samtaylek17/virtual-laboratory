{
 "cells": [
  {
   "cell_type": "code",
   "execution_count": 4,
   "id": "8f0f9550",
   "metadata": {},
   "outputs": [
    {
     "name": "stdout",
     "output_type": "stream",
     "text": [
      "8.610699795593973\n",
      "8.11355542865931\n",
      "7.5337164519005455\n",
      "8.592793482443085\n",
      "9.125099337019492\n",
      "7.651246980036376\n",
      "-5.441849195893155\n",
      "4.744564001652179\n",
      "10.660809866705677\n",
      "0.0019955713069066405\n"
     ]
    }
   ],
   "source": [
    "import nidaqmx\n",
    "import time\n",
    "\n",
    "task = nidaqmx.Task()\n",
    "\n",
    "task.ai_channels.add_ai_voltage_chan('mydaq1/ai0')\n",
    "\n",
    "task.start()\n",
    "\n",
    "N = 10\n",
    "\n",
    "Ts = 2\n",
    "\n",
    "for k in range (N):\n",
    "    value = task.read()\n",
    "    print(value)\n",
    "    time.sleep(Ts)\n",
    "    \n",
    "task.stop()\n",
    "task.close()"
   ]
  },
  {
   "cell_type": "code",
   "execution_count": null,
   "id": "f54cfb5b",
   "metadata": {},
   "outputs": [],
   "source": [
    "import nidaqmx\n",
    "import time\n",
    "\n",
    "task = nidaqmx.Task()\n",
    "\n",
    "task.ai_channels.add_ai_voltage_chan('mydaq1/ai0')\n",
    "\n",
    "task.start()\n",
    "\n",
    "N = 10\n",
    "\n",
    "Ts = 2\n",
    "\n",
    "for k in range (N):\n",
    "    value = task.read()\n",
    "    print(value)\n",
    "    time.sleep(Ts)\n",
    "    \n",
    "task.stop()\n",
    "task.close()"
   ]
  }
 ],
 "metadata": {
  "kernelspec": {
   "display_name": "Python 3",
   "language": "python",
   "name": "python3"
  },
  "language_info": {
   "codemirror_mode": {
    "name": "ipython",
    "version": 3
   },
   "file_extension": ".py",
   "mimetype": "text/x-python",
   "name": "python",
   "nbconvert_exporter": "python",
   "pygments_lexer": "ipython3",
   "version": "3.8.8"
  },
  "latex_envs": {
   "LaTeX_envs_menu_present": true,
   "autoclose": false,
   "autocomplete": true,
   "bibliofile": "biblio.bib",
   "cite_by": "apalike",
   "current_citInitial": 1,
   "eqLabelWithNumbers": true,
   "eqNumInitial": 1,
   "hotkeys": {
    "equation": "Ctrl-E",
    "itemize": "Ctrl-I"
   },
   "labels_anchors": false,
   "latex_user_defs": false,
   "report_style_numbering": false,
   "user_envs_cfg": false
  }
 },
 "nbformat": 4,
 "nbformat_minor": 5
}
