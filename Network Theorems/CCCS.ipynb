{
 "cells": [
  {
   "cell_type": "markdown",
   "metadata": {},
   "source": [
    "# DC Circuit Analysis with Dependent Sources"
   ]
  },
  {
   "cell_type": "markdown",
   "metadata": {},
   "source": [
    "## Simulating Resistor, Independent voltage and current sources, dependent sources"
   ]
  },
  {
   "cell_type": "markdown",
   "metadata": {},
   "source": [
    "### Circuit with Current Controlled Current Source"
   ]
  },
  {
   "cell_type": "code",
   "execution_count": 1,
   "metadata": {},
   "outputs": [],
   "source": [
    "import schemdraw as schem\n",
    "import schemdraw.elements as elm\n",
    "\n",
    "d = schem.Drawing()\n",
    "\n",
    "Line1 = d.add(elm.LINE, d='right')\n",
    "d += elm.Line().right().length(3)\n",
    "d += elm.SourceI().up().label(('5A'), loc='bottom')\n",
    "d += elm.Line().left().length(2)\n",
    "d.push()\n",
    "d += elm.Resistor().down().label('4A')\n",
    "d.pop()\n",
    "d += elm.Line().up().length(2)\n",
    "d += elm.SourceControlledI().left().label('$3i_1$')\n",
    "d += elm.Line().down().length(2)\n",
    "d.push()\n",
    "d += elm.Resistor().label('2Ω').right()\n",
    "d.pop()\n",
    "d.push()\n",
    "d += elm.Resistor().label('8Ω').down()\n",
    "d.pop()\n",
    "d += elm.Resistor().label('6Ω').left()\n",
    "d += elm.SourceV().label('50V').down().reverse()\n",
    "d += elm.Line().right()\n",
    "d += elm.Ground()\n",
    "\n",
    "d\n",
    "\n",
    "d.save('ccvs.png')\n"
   ]
  },
  {
   "cell_type": "code",
   "execution_count": 2,
   "metadata": {
    "scrolled": true
   },
   "outputs": [
    {
     "data": {
      "application/vnd.jupyter.widget-view+json": {
       "model_id": "311cd48f565b48a393521bb90a567a21",
       "version_major": 2,
       "version_minor": 0
      },
      "text/plain": [
       "Tab(children=(VBox(children=(IntSlider(value=1, max=20, orientation='vertical'),)), VBox(children=(IntSlider(v…"
      ]
     },
     "metadata": {},
     "output_type": "display_data"
    }
   ],
   "source": [
    "import warnings\n",
    "warnings.filterwarnings('ignore')\n",
    "\n",
    "from ipywidgets import IntSlider, link, VBox, Tab\n",
    "# import ipywidgets as widgets\n",
    "from IPython.display import display, clear_output\n",
    "from ipysheet import sheet, cell, row, column, cell_range\n",
    "\n",
    "sheet1 = sheet(rows=5, columns=15, column_headers=False, row_headers=False)\n",
    "\n",
    "R1 = IntSlider(\n",
    "         value=1,\n",
    "         min=0,\n",
    "         max=20,\n",
    "         step=1,\n",
    "        orientation='vertical')\n",
    "\n",
    "R2 = IntSlider(\n",
    "         value=1,\n",
    "         min=0,\n",
    "         max=20,\n",
    "         step=1,\n",
    "        orientation='vertical')\n",
    "\n",
    "R3 = IntSlider(\n",
    "         value=1,\n",
    "         min=0,\n",
    "         max=20,\n",
    "         step=1,\n",
    "        orientation='vertical')\n",
    "\n",
    "R4 = IntSlider(\n",
    "         value=1,\n",
    "         min=0,\n",
    "         max=20,\n",
    "         step=1,\n",
    "        orientation='vertical')\n",
    "\n",
    "I = IntSlider(\n",
    "         value=1,\n",
    "         min=0,\n",
    "         max=20,\n",
    "         step=1,\n",
    "        orientation='vertical')\n",
    "\n",
    "V1 = IntSlider(\n",
    "         value=1,\n",
    "         min=0,\n",
    "         max=50,\n",
    "         step=1,\n",
    "        orientation='vertical')\n",
    "\n",
    "F = IntSlider(\n",
    "         value=1,\n",
    "         min=0,\n",
    "         max=20,\n",
    "         step=1,\n",
    "        orientation='vertical')\n",
    "\n",
    "\n",
    "box = VBox([R1])\n",
    "# defining a list with the contents of our windows\n",
    "children = [VBox([R1]), VBox([R2]), VBox([R3]), VBox([R4]), VBox([I]), VBox([V1]), VBox([F])]\n",
    "# initializing a tab\n",
    "tab = Tab()\n",
    "# setting the tab windows \n",
    "tab.children = children\n",
    "# changing the title of the first and second window\n",
    "tab.set_title(0, 'R1')\n",
    "tab.set_title(1, 'R2')\n",
    "tab.set_title(2, 'R3')\n",
    "tab.set_title(3, 'R4')\n",
    "tab.set_title(4, 'I')\n",
    "tab.set_title(5, 'V1')\n",
    "tab.set_title(6, 'F')\n",
    "tab"
   ]
  },
  {
   "cell_type": "code",
   "execution_count": 11,
   "metadata": {},
   "outputs": [],
   "source": [
    "import PySpice.Logging.Logging as Logging\n",
    "logger = Logging.setup_logging()\n",
    "from PySpice.Spice.Netlist import Circuit\n",
    "from PySpice.Unit import *\n"
   ]
  },
  {
   "cell_type": "code",
   "execution_count": 12,
   "metadata": {},
   "outputs": [
    {
     "data": {
      "application/vnd.jupyter.widget-view+json": {
       "model_id": "a693c0fe000144059df7ad9566334f3f",
       "version_major": 2,
       "version_minor": 0
      },
      "text/plain": [
       "VBox(children=(Button(description='Simulate Circuit', style=ButtonStyle(), tooltip='Simulate'), Output()))"
      ]
     },
     "metadata": {},
     "output_type": "display_data"
    }
   ],
   "source": [
    "circuit = Circuit('Circuit with Controlled Current Voltage Source')\n",
    "circuit.R(1, 2, 3, R1.value@u_Ω)\n",
    "circuit.R(2, 3, circuit.gnd, R2.value@u_Ω)\n",
    "circuit.R(3, 3, 4,            R3.value@u_Ω)\n",
    "circuit.R(4, 4, circuit.gnd, R4.value@u_Ω)\n",
    "circuit.V(1, 1, circuit.gnd, V1.value@u_V)\n",
    "circuit.V('test', 1, 2,       0@u_V)\n",
    "circuit.I(1, circuit.gnd, 4, I.value@u_A)\n",
    "circuit.F(1, 4, 3, 'Vtest', F.value)\n",
    "\n",
    "simulator = circuit.simulator(temperature=25, nominal_temperature=25)\n",
    "analysis = simulator.operating_point()\n",
    "\n",
    "button_send = widgets.Button(\n",
    "                description='Simulate Circuit',\n",
    "                tooltip='Simulate',\n",
    "                style={'description_width': 'initial'}\n",
    "            )\n",
    "\n",
    "output = widgets.Output()\n",
    "\n",
    "def on_button_clicked(event):\n",
    "    with output:\n",
    "        clear_output()\n",
    "        with open('readings.txt', 'a') as f:\n",
    "            circuit_readings = []\n",
    "            for node in analysis.nodes.values():\n",
    "                circuit_readings.append('Node {}: {:4.1f} V'.format(str(node), float(node)))\n",
    "                print('Node {}: {:4.1f} V'.format(str(node), float(node)))   \n",
    "            f.write(str(circuit_readings))\n",
    "            f.write('\\n')\n",
    "        for node in analysis.branches.values():\n",
    "            print('Node {}: {:5.2f} A'.format(str(node), float(node)))\n",
    "\n",
    "\n",
    "button_send.on_click(on_button_clicked)\n",
    "\n",
    "vbox_result = widgets.VBox([button_send, output])\n",
    "\n",
    "vbox_result\n",
    "\n"
   ]
  },
  {
   "cell_type": "code",
   "execution_count": 30,
   "metadata": {
    "scrolled": true
   },
   "outputs": [
    {
     "name": "stdout",
     "output_type": "stream",
     "text": [
      "['Node 1:  1.0 V', 'Node 4:  0.7 V', 'Node 3:  0.7 V', 'Node 2:  1.0 V']\n",
      "\n",
      "['Node 1:  1.0 V', 'Node 4:  8.4 V', 'Node 3:  1.3 V', 'Node 2:  1.0 V']\n",
      "\n"
     ]
    }
   ],
   "source": [
    "lines = []\n",
    "with open('readings.txt') as f:\n",
    "    lines = f.readlines()\n",
    "count = 0\n",
    "for line in lines:\n",
    "    count += 1\n",
    "    print(line)  "
   ]
  },
  {
   "cell_type": "code",
   "execution_count": null,
   "metadata": {},
   "outputs": [],
   "source": []
  },
  {
   "cell_type": "code",
   "execution_count": null,
   "metadata": {},
   "outputs": [],
   "source": []
  }
 ],
 "metadata": {
  "hide_input": false,
  "kernelspec": {
   "display_name": "Python 3",
   "language": "python",
   "name": "python3"
  },
  "language_info": {
   "codemirror_mode": {
    "name": "ipython",
    "version": 3
   },
   "file_extension": ".py",
   "mimetype": "text/x-python",
   "name": "python",
   "nbconvert_exporter": "python",
   "pygments_lexer": "ipython3",
   "version": "3.8.5"
  }
 },
 "nbformat": 4,
 "nbformat_minor": 4
}
