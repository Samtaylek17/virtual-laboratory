{
 "cells": [
  {
   "cell_type": "code",
   "execution_count": 146,
   "metadata": {
    "scrolled": true
   },
   "outputs": [
    {
     "data": {
      "application/vnd.jupyter.widget-view+json": {
       "model_id": "3bd7473bce7a4431b457c7ca7992ea46",
       "version_major": 2,
       "version_minor": 0
      },
      "text/plain": [
       "Sheet(cells=(Cell(column_end=0, column_start=0, row_end=0, row_start=0, type='widget', value=FloatSlider(value…"
      ]
     },
     "metadata": {},
     "output_type": "display_data"
    }
   ],
   "source": [
    "from ipywidgets import FloatSlider, link, Button, Output, VBox\n",
    "from ipysheet import sheet, cell, column, to_dataframe\n",
    "from IPython.display import display, clear_output\n",
    "\n",
    "sheet1 = sheet(rows=1, columns=4, column_headers=[\"R1\", \"R2\", \"R3\", \"R4\"])\n",
    "\n",
    "R1 = FloatSlider(orientation='vertical')\n",
    "R2 = FloatSlider(orientation='vertical')\n",
    "R3 = FloatSlider(orientation='vertical')\n",
    "R4 = FloatSlider(orientation='vertical')\n",
    "\n",
    "column1 = cell(0, 0, R1)\n",
    "column2 = cell(0, 1, R2)\n",
    "column3 = cell(0, 2, R3)\n",
    "column4 = cell(0, 3, R4)\n",
    "\n",
    "\n",
    "sheet1"
   ]
  },
  {
   "cell_type": "code",
   "execution_count": 147,
   "metadata": {
    "scrolled": false
   },
   "outputs": [
    {
     "data": {
      "application/vnd.jupyter.widget-view+json": {
       "model_id": "0f60ddad8f6d4ad0b5b49890b68dc6c5",
       "version_major": 2,
       "version_minor": 0
      },
      "text/plain": [
       "VBox(children=(Button(description='Simulate Circuit', style=ButtonStyle(), tooltip='Simulate'), Output(), Shee…"
      ]
     },
     "metadata": {},
     "output_type": "display_data"
    }
   ],
   "source": [
    "\n",
    "\n",
    "import PySpice.Logging.Logging as Logging\n",
    "logger = Logging.setup_logging()\n",
    "from PySpice.Spice.Netlist import Circuit\n",
    "from PySpice.Unit import *\n",
    "\n",
    "# link((column1), (R1))\n",
    "\n",
    "\n",
    "circuit = Circuit('Circuit with Controlled Current Voltage Source')\n",
    "circuit.R(1, 2, 3, R1.value@u_Ω)\n",
    "circuit.R(2, 3, circuit.gnd, R2.value@u_Ω)\n",
    "circuit.R(3, 3, 4,            R3.value@u_Ω)\n",
    "circuit.R(4, 4, circuit.gnd, R4.value@u_Ω)\n",
    "circuit.V(1, 1, circuit.gnd, 50@u_V)\n",
    "circuit.V('test', 1, 2,       0@u_V)\n",
    "circuit.I(1, circuit.gnd, 4, 5@u_A)\n",
    "circuit.F(1, 4, 3, 'Vtest', 5)\n",
    "\n",
    "simulator = circuit.simulator(temperature=25, nominal_temperature=25)\n",
    "analysis = simulator.operating_point()\n",
    "\n",
    "button_send = Button(\n",
    "                description='Simulate Circuit',\n",
    "                tooltip='Simulate',\n",
    "                style={'description_width': 'initial'}\n",
    "            )\n",
    "\n",
    "\n",
    "output = Output()\n",
    "sheet2 = sheet(rows=1, columns=9, column_headers=[\"R1(Ω)\", \"R2(Ω)\", \"R3(Ω)\", \"R4(Ω)\", \"Node 1(V)\", \"Node 2(V)\", \"Node 3(V)\", \"Node 4(V)\", \"Node v1(A)\"])\n",
    "\n",
    "def on_button_clicked(event):\n",
    "    with output:\n",
    "        clear_output()\n",
    "        with open('report.csv', 'a') as f:\n",
    "            circuit_readings = []\n",
    "            \n",
    "            for node in analysis.nodes.values():\n",
    "                circuit_readings.append('{:5.2f}'.format(float(node)))\n",
    "#                 circuit_readings.append('Node {}: {:4.1f} V'.format(str(node), float(node)))\n",
    "                \n",
    "                print('Node {}: {:4.1f} V'.format(str(node), float(node))) \n",
    "            \n",
    "            cell_a = cell(0, 0, R1.value)\n",
    "            cell_b = cell(0, 1, R2.value)\n",
    "            cell_c = cell(0, 2, R3.value)\n",
    "            cell_d = cell(0, 3, R4.value)\n",
    "            cell_e = cell(0, 4, circuit_readings[0])\n",
    "            cell_f = cell(0, 5, circuit_readings[3])\n",
    "            cell_g = cell(0, 6, circuit_readings[2])\n",
    "            cell_h = cell(0, 7, circuit_readings[1])\n",
    "           \n",
    "            \n",
    "            print(R1.value)\n",
    "            \n",
    "#             f.write(str(circuit_readings))\n",
    "#             f.write('\\n')\n",
    "            for node in analysis.branches.values():\n",
    "                circuit_readings.append('{:5.2f}'.format(float(node)))\n",
    "                print('Node {}: {:5.2f} A'.format(str(node), float(node)))\n",
    "            cell_i = cell(0, 8, circuit_readings[5])\n",
    "            sheet2\n",
    "            df3 = to_dataframe(sheet2)\n",
    "            df3.to_csv('reports.csv', mode='a', index=False, header=True)\n",
    "            \n",
    "               \n",
    "            \n",
    "\n",
    "\n",
    "button_send.on_click(on_button_clicked)\n",
    "\n",
    "\n",
    "\n",
    "vbox_result = VBox([button_send, output, sheet2])\n",
    "\n",
    "\n",
    "vbox_result\n",
    "\n",
    "\n",
    "\n"
   ]
  },
  {
   "cell_type": "code",
   "execution_count": 148,
   "metadata": {},
   "outputs": [
    {
     "data": {
      "text/html": [
       "<div>\n",
       "<style scoped>\n",
       "    .dataframe tbody tr th:only-of-type {\n",
       "        vertical-align: middle;\n",
       "    }\n",
       "\n",
       "    .dataframe tbody tr th {\n",
       "        vertical-align: top;\n",
       "    }\n",
       "\n",
       "    .dataframe thead th {\n",
       "        text-align: right;\n",
       "    }\n",
       "</style>\n",
       "<table border=\"1\" class=\"dataframe\">\n",
       "  <thead>\n",
       "    <tr style=\"text-align: right;\">\n",
       "      <th></th>\n",
       "      <th>R1(Ω)</th>\n",
       "      <th>R2(Ω)</th>\n",
       "      <th>R3(Ω)</th>\n",
       "      <th>R4(Ω)</th>\n",
       "      <th>Node 1(V)</th>\n",
       "      <th>Node 2(V)</th>\n",
       "      <th>Node 3(V)</th>\n",
       "      <th>Node 4(V)</th>\n",
       "      <th>Node v1(A)</th>\n",
       "    </tr>\n",
       "  </thead>\n",
       "  <tbody>\n",
       "    <tr>\n",
       "      <th>0</th>\n",
       "      <td>49.5</td>\n",
       "      <td>25.7</td>\n",
       "      <td>55.2</td>\n",
       "      <td>38.3</td>\n",
       "      <td>50.00</td>\n",
       "      <td>50.00</td>\n",
       "      <td>45.24</td>\n",
       "      <td>68.13</td>\n",
       "      <td>0.12</td>\n",
       "    </tr>\n",
       "  </tbody>\n",
       "</table>\n",
       "</div>"
      ],
      "text/plain": [
       "   R1(Ω)  R2(Ω)  R3(Ω)  R4(Ω) Node 1(V) Node 2(V) Node 3(V) Node 4(V)  \\\n",
       "0   49.5   25.7   55.2   38.3     50.00     50.00     45.24     68.13   \n",
       "\n",
       "  Node v1(A)  \n",
       "0       0.12  "
      ]
     },
     "execution_count": 148,
     "metadata": {},
     "output_type": "execute_result"
    }
   ],
   "source": [
    "# df3 = to_dataframe(sheet2)\n",
    "# df3.to_csv('report.csv')\n",
    "df3\n"
   ]
  },
  {
   "cell_type": "code",
   "execution_count": 155,
   "metadata": {},
   "outputs": [],
   "source": [
    "import json\n",
    "import pandas as pd\n",
    "from IPython.display import HTML"
   ]
  },
  {
   "cell_type": "code",
   "execution_count": 156,
   "metadata": {},
   "outputs": [],
   "source": [
    "df = pd.read_csv('reports.csv')\n",
    "# df.drop(columns=['Unnamed: 0'], inplace=True)\n",
    "json_data = df.to_json(orient='records')"
   ]
  },
  {
   "cell_type": "code",
   "execution_count": 151,
   "metadata": {},
   "outputs": [],
   "source": [
    "flexmonster = {\n",
    "    \"container\": \"#pivot-container\",\n",
    "    \"componentFolder\": \"https://cdn.flexmonster.com/\",\n",
    "    \"width\": \"100%\",\n",
    "    \"height\": 430,\n",
    "    \"toolbar\": True,\n",
    "    \"report\": {\n",
    "        \"dataSource\": {\n",
    "            \"type\": \"json\",\n",
    "            \"data\": json.loads(json_data) # decoding JSON\n",
    "        },\n",
    "    }\n",
    "}\n",
    "\n",
    "flexmonster_json_object = json.dumps(flexmonster)"
   ]
  },
  {
   "cell_type": "code",
   "execution_count": 152,
   "metadata": {},
   "outputs": [],
   "source": [
    "def render_pivot_table(json_component):\n",
    "    layout = '''\n",
    "      <script src=\"https://cdn.flexmonster.com/flexmonster.js\"></script>\n",
    "      <h1>Flexmonster Integration with Jupyter Notebook</h1>\n",
    "      <div id=\"pivot-container\"></div>\n",
    "      <script>\n",
    "      new Flexmonster();\n",
    "      </script>\n",
    "      '''.format(json_component)\n",
    "    return HTML(layout)"
   ]
  },
  {
   "cell_type": "code",
   "execution_count": 159,
   "metadata": {},
   "outputs": [
    {
     "data": {
      "text/html": [
       "\n",
       "      <script src=\"https://cdn.flexmonster.com/flexmonster.js\"></script>\n",
       "      <h1>Flexmonster Integration with Jupyter Notebook</h1>\n",
       "      <div id=\"pivot-container\"></div>\n",
       "      <script>\n",
       "      new Flexmonster();\n",
       "      </script>\n",
       "      "
      ],
      "text/plain": [
       "<IPython.core.display.HTML object>"
      ]
     },
     "execution_count": 159,
     "metadata": {},
     "output_type": "execute_result"
    }
   ],
   "source": [
    "render_pivot_table(flexmonster_json_object)"
   ]
  },
  {
   "cell_type": "code",
   "execution_count": null,
   "metadata": {},
   "outputs": [],
   "source": []
  }
 ],
 "metadata": {
  "hide_input": false,
  "kernelspec": {
   "display_name": "Python 3",
   "language": "python",
   "name": "python3"
  },
  "language_info": {
   "codemirror_mode": {
    "name": "ipython",
    "version": 3
   },
   "file_extension": ".py",
   "mimetype": "text/x-python",
   "name": "python",
   "nbconvert_exporter": "python",
   "pygments_lexer": "ipython3",
   "version": "3.8.5"
  }
 },
 "nbformat": 4,
 "nbformat_minor": 4
}
