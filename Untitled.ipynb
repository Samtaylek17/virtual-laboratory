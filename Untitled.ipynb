{
 "cells": [
  {
   "cell_type": "code",
   "execution_count": 1,
   "id": "4d2e659e-90a6-40c6-9970-4b205d56bff3",
   "metadata": {},
   "outputs": [
    {
     "ename": "AttributeError",
     "evalue": "type object 'NgSpiceShared' has no attribute 'new_instance'",
     "output_type": "error",
     "traceback": [
      "\u001b[1;31m---------------------------------------------------------------------------\u001b[0m",
      "\u001b[1;31mAttributeError\u001b[0m                            Traceback (most recent call last)",
      "\u001b[1;32m<ipython-input-1-415dede8a7bb>\u001b[0m in \u001b[0;36m<module>\u001b[1;34m\u001b[0m\n\u001b[0;32m     13\u001b[0m \u001b[0mthevenin_circuit\u001b[0m\u001b[1;33m.\u001b[0m\u001b[0mR\u001b[0m\u001b[1;33m(\u001b[0m\u001b[1;34m'load'\u001b[0m\u001b[1;33m,\u001b[0m \u001b[1;34m'load'\u001b[0m\u001b[1;33m,\u001b[0m \u001b[0mthevenin_circuit\u001b[0m\u001b[1;33m.\u001b[0m\u001b[0mgnd\u001b[0m\u001b[1;33m,\u001b[0m \u001b[1;36m1\u001b[0m\u001b[1;33m@\u001b[0m\u001b[0mu_kΩ\u001b[0m\u001b[1;33m)\u001b[0m\u001b[1;33m\u001b[0m\u001b[1;33m\u001b[0m\u001b[0m\n\u001b[0;32m     14\u001b[0m \u001b[1;33m\u001b[0m\u001b[0m\n\u001b[1;32m---> 15\u001b[1;33m \u001b[0msimulator\u001b[0m \u001b[1;33m=\u001b[0m \u001b[0mthevenin_circuit\u001b[0m\u001b[1;33m.\u001b[0m\u001b[0msimulator\u001b[0m\u001b[1;33m(\u001b[0m\u001b[0mtemperature\u001b[0m\u001b[1;33m=\u001b[0m\u001b[1;36m25\u001b[0m\u001b[1;33m,\u001b[0m \u001b[0mnominal_temperature\u001b[0m\u001b[1;33m=\u001b[0m\u001b[1;36m25\u001b[0m\u001b[1;33m)\u001b[0m\u001b[1;33m\u001b[0m\u001b[1;33m\u001b[0m\u001b[0m\n\u001b[0m\u001b[0;32m     16\u001b[0m \u001b[0manalysis\u001b[0m \u001b[1;33m=\u001b[0m \u001b[0msimulator\u001b[0m\u001b[1;33m.\u001b[0m\u001b[0moperating_point\u001b[0m\u001b[1;33m(\u001b[0m\u001b[1;33m)\u001b[0m\u001b[1;33m\u001b[0m\u001b[1;33m\u001b[0m\u001b[0m\n\u001b[0;32m     17\u001b[0m \u001b[1;33m\u001b[0m\u001b[0m\n",
      "\u001b[1;32m~\\Anaconda3\\anaconda3 2021\\lib\\site-packages\\PySpice\\Spice\\Netlist.py\u001b[0m in \u001b[0;36msimulator\u001b[1;34m(self, *args, **kwargs)\u001b[0m\n\u001b[0;32m   1279\u001b[0m \u001b[1;33m\u001b[0m\u001b[0m\n\u001b[0;32m   1280\u001b[0m     \u001b[1;32mdef\u001b[0m \u001b[0msimulator\u001b[0m\u001b[1;33m(\u001b[0m\u001b[0mself\u001b[0m\u001b[1;33m,\u001b[0m \u001b[1;33m*\u001b[0m\u001b[0margs\u001b[0m\u001b[1;33m,\u001b[0m \u001b[1;33m**\u001b[0m\u001b[0mkwargs\u001b[0m\u001b[1;33m)\u001b[0m\u001b[1;33m:\u001b[0m\u001b[1;33m\u001b[0m\u001b[1;33m\u001b[0m\u001b[0m\n\u001b[1;32m-> 1281\u001b[1;33m         \u001b[1;32mreturn\u001b[0m \u001b[0mCircuitSimulator\u001b[0m\u001b[1;33m.\u001b[0m\u001b[0mfactory\u001b[0m\u001b[1;33m(\u001b[0m\u001b[0mself\u001b[0m\u001b[1;33m,\u001b[0m \u001b[1;33m*\u001b[0m\u001b[0margs\u001b[0m\u001b[1;33m,\u001b[0m \u001b[1;33m**\u001b[0m\u001b[0mkwargs\u001b[0m\u001b[1;33m)\u001b[0m\u001b[1;33m\u001b[0m\u001b[1;33m\u001b[0m\u001b[0m\n\u001b[0m",
      "\u001b[1;32m~\\Anaconda3\\anaconda3 2021\\lib\\site-packages\\PySpice\\Spice\\Simulation.py\u001b[0m in \u001b[0;36mfactory\u001b[1;34m(cls, circuit, *args, **kwargs)\u001b[0m\n\u001b[0;32m    768\u001b[0m \u001b[1;33m\u001b[0m\u001b[0m\n\u001b[0;32m    769\u001b[0m         \u001b[1;32mif\u001b[0m \u001b[0msub_cls\u001b[0m \u001b[1;32mis\u001b[0m \u001b[1;32mnot\u001b[0m \u001b[1;32mNone\u001b[0m\u001b[1;33m:\u001b[0m\u001b[1;33m\u001b[0m\u001b[1;33m\u001b[0m\u001b[0m\n\u001b[1;32m--> 770\u001b[1;33m             \u001b[1;32mreturn\u001b[0m \u001b[0msub_cls\u001b[0m\u001b[1;33m(\u001b[0m\u001b[0mcircuit\u001b[0m\u001b[1;33m,\u001b[0m \u001b[1;33m*\u001b[0m\u001b[0margs\u001b[0m\u001b[1;33m,\u001b[0m \u001b[1;33m**\u001b[0m\u001b[0mkwargs\u001b[0m\u001b[1;33m)\u001b[0m\u001b[1;33m\u001b[0m\u001b[1;33m\u001b[0m\u001b[0m\n\u001b[0m\u001b[0;32m    771\u001b[0m         \u001b[1;32melse\u001b[0m\u001b[1;33m:\u001b[0m\u001b[1;33m\u001b[0m\u001b[1;33m\u001b[0m\u001b[0m\n\u001b[0;32m    772\u001b[0m             \u001b[1;32mraise\u001b[0m \u001b[0mValueError\u001b[0m\u001b[1;33m(\u001b[0m\u001b[1;34m'Unknown simulator type'\u001b[0m\u001b[1;33m)\u001b[0m\u001b[1;33m\u001b[0m\u001b[1;33m\u001b[0m\u001b[0m\n",
      "\u001b[1;32m~\\Anaconda3\\anaconda3 2021\\lib\\site-packages\\PySpice\\Spice\\NgSpice\\Simulation.py\u001b[0m in \u001b[0;36m__init__\u001b[1;34m(self, circuit, **kwargs)\u001b[0m\n\u001b[0;32m     97\u001b[0m         \u001b[0mngspice_shared\u001b[0m \u001b[1;33m=\u001b[0m \u001b[0mkwargs\u001b[0m\u001b[1;33m.\u001b[0m\u001b[0mget\u001b[0m\u001b[1;33m(\u001b[0m\u001b[1;34m'ngspice_shared'\u001b[0m\u001b[1;33m,\u001b[0m \u001b[1;32mNone\u001b[0m\u001b[1;33m)\u001b[0m\u001b[1;33m\u001b[0m\u001b[1;33m\u001b[0m\u001b[0m\n\u001b[0;32m     98\u001b[0m         \u001b[1;32mif\u001b[0m \u001b[0mngspice_shared\u001b[0m \u001b[1;32mis\u001b[0m \u001b[1;32mNone\u001b[0m\u001b[1;33m:\u001b[0m\u001b[1;33m\u001b[0m\u001b[1;33m\u001b[0m\u001b[0m\n\u001b[1;32m---> 99\u001b[1;33m             \u001b[0mself\u001b[0m\u001b[1;33m.\u001b[0m\u001b[0m_ngspice_shared\u001b[0m \u001b[1;33m=\u001b[0m \u001b[0mNgSpiceShared\u001b[0m\u001b[1;33m.\u001b[0m\u001b[0mnew_instance\u001b[0m\u001b[1;33m(\u001b[0m\u001b[1;33m)\u001b[0m\u001b[1;33m\u001b[0m\u001b[1;33m\u001b[0m\u001b[0m\n\u001b[0m\u001b[0;32m    100\u001b[0m         \u001b[1;32melse\u001b[0m\u001b[1;33m:\u001b[0m\u001b[1;33m\u001b[0m\u001b[1;33m\u001b[0m\u001b[0m\n\u001b[0;32m    101\u001b[0m             \u001b[0mself\u001b[0m\u001b[1;33m.\u001b[0m\u001b[0m_ngspice_shared\u001b[0m \u001b[1;33m=\u001b[0m \u001b[0mngspice_shared\u001b[0m\u001b[1;33m\u001b[0m\u001b[1;33m\u001b[0m\u001b[0m\n",
      "\u001b[1;31mAttributeError\u001b[0m: type object 'NgSpiceShared' has no attribute 'new_instance'"
     ]
    }
   ],
   "source": [
    "import PySpice.Logging.Logging as Logging\n",
    "logger = Logging.setup_logging()\n",
    "\n",
    "\n",
    "from PySpice.Spice.Netlist import Circuit\n",
    "from PySpice.Unit import *\n",
    "\n",
    "\n",
    "thevenin_circuit = Circuit('Thévenin Representation')\n",
    "\n",
    "thevenin_circuit.V('input', 1, thevenin_circuit.gnd, 10@u_V)\n",
    "thevenin_circuit.R('generator', 1, 'load', 10@u_Ω)\n",
    "thevenin_circuit.R('load', 'load', thevenin_circuit.gnd, 1@u_kΩ)\n",
    "\n",
    "simulator = thevenin_circuit.simulator(temperature=25, nominal_temperature=25)\n",
    "analysis = simulator.operating_point()\n",
    "\n",
    "load_node = analysis.load\n",
    "print('Node {}: {:5.2f} V'.format(str(load_node), float(load_node)))"
   ]
  },
  {
   "cell_type": "code",
   "execution_count": null,
   "id": "8ad51bdd-aeb2-4896-985a-2b2e4eeff986",
   "metadata": {},
   "outputs": [],
   "source": [
    "def func():\n",
    "    a = 5\n",
    "    print ('done')\n",
    "    return a\n",
    "\n",
    "raw_input = (\"\");\n",
    "# version 1: if print doesn't have to be outside of the function\n",
    "def main():\n",
    "    temp = raw_input('')\n",
    "    if temp == '':\n",
    "        local_a = func()\n",
    "    else:\n",
    "        # use else to avoid UnboundLocalError: local variable 'a' referenced\n",
    "        # before assignment\n",
    "        local_a = None\n",
    "    print (local_a)\n",
    "\n",
    "\n",
    "if __name__ == \"__main__\":\n",
    "    main()"
   ]
  }
 ],
 "metadata": {
  "hide_input": false,
  "kernelspec": {
   "display_name": "Python 3",
   "language": "python",
   "name": "python3"
  },
  "language_info": {
   "codemirror_mode": {
    "name": "ipython",
    "version": 3
   },
   "file_extension": ".py",
   "mimetype": "text/x-python",
   "name": "python",
   "nbconvert_exporter": "python",
   "pygments_lexer": "ipython3",
   "version": "3.8.8"
  },
  "latex_envs": {
   "LaTeX_envs_menu_present": true,
   "autoclose": false,
   "autocomplete": true,
   "bibliofile": "biblio.bib",
   "cite_by": "apalike",
   "current_citInitial": 1,
   "eqLabelWithNumbers": true,
   "eqNumInitial": 1,
   "hotkeys": {
    "equation": "Ctrl-E",
    "itemize": "Ctrl-I"
   },
   "labels_anchors": false,
   "latex_user_defs": false,
   "report_style_numbering": false,
   "user_envs_cfg": false
  }
 },
 "nbformat": 4,
 "nbformat_minor": 5
}
