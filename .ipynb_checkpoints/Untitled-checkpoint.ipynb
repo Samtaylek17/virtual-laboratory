{
 "cells": [],
 "metadata": {},
 "nbformat": 4,
<<<<<<< HEAD
 "nbformat_minor": 4
=======
 "nbformat_minor": 5
>>>>>>> 46eae64bb97411a885ae0b787e37e2f673885fdd
}
