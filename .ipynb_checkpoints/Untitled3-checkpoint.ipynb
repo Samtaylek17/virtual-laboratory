{
 "cells": [
  {
   "cell_type": "code",
   "execution_count": 1,
   "id": "7e08bd85-e8bc-44ff-b99f-7ec981202bf4",
   "metadata": {},
   "outputs": [],
   "source": [
    "from IPython.display import display, Markdown, clear_output\n",
    "import ipywidgets as widgets\n",
    "import schemdraw\n",
    "import schemdraw.elements as elm\n",
    "\n",
    "answerInput = widgets.Text(value='', description='Observation')\n",
    "question1 = widgets.Text(value='', description='Shape of graph for component I')\n",
    "question2 = widgets.Text(value='', description='Conclusion derived as to the relationship between current and voltage for component I')\n",
    "question3 = widgets.Dropdown(options=['Yes', 'No'], description='With component 2, is the graph the same gain as before?')\n",
    "question4 = widgets.Text(value='', description='What is the slope of the second graph')\n",
    "question5 = widgets.Text(value='', description='What is the slope of the third graph')\n",
    "question6 = widgets.Text(value='', description='What is the slope of the fourth graph')\n",
    "\n",
    "\n",
    "\n",
    "d = schemdraw.Drawing()\n",
    "d += elm.MeterA().right().label('0-1A')\n",
    "d += elm.Line()\n",
    "d += elm.ResistorIEC().down().label('Component 1')\n",
    "d += elm.Line().left()\n",
    "d += elm.Line().left()\n",
    "d += elm.Battery().up().label('PSU')\n",
    "d += elm.Line().left()\n",
    "d += elm.SourceV().down().label('0-10V')\n",
    "d += elm.Line().right()"
   ]
  },
  {
   "cell_type": "code",
   "execution_count": 2,
   "id": "955e666a-31b5-49a3-b555-d6832f908ea8",
   "metadata": {},
   "outputs": [
    {
     "data": {
      "image/png": "[encoded data removed]",
      "image/svg+xml": [
       "<?xml version=\"1.0\" encoding=\"utf-8\" standalone=\"no\"?>\r\n",
       "<!DOCTYPE svg PUBLIC \"-//W3C//DTD SVG 1.1//EN\"\r\n",
       "  \"http://www.w3.org/Graphics/SVG/1.1/DTD/svg11.dtd\">\r\n",
       "<!-- Created with matplotlib (https://matplotlib.org/) -->\r\n",
       "<svg height=\"144.8087pt\" version=\"1.1\" viewBox=\"0 0 360.220312 144.8087\" width=\"360.220312pt\" xmlns=\"http://www.w3.org/2000/svg\" xmlns:xlink=\"http://www.w3.org/1999/xlink\">\r\n",
       " <metadata>\r\n",
       "  <rdf:RDF xmlns:cc=\"http://creativecommons.org/ns#\" xmlns:dc=\"http://purl.org/dc/elements/1.1/\" xmlns:rdf=\"http://www.w3.org/1999/02/22-rdf-syntax-ns#\">\r\n",
       "   <cc:Work>\r\n",
       "    <dc:type rdf:resource=\"http://purl.org/dc/dcmitype/StillImage\"/>\r\n",
       "    <dc:date>2021-08-05T06:22:15.984586</dc:date>\r\n",
       "    <dc:format>image/svg+xml</dc:format>\r\n",
       "    <dc:creator>\r\n",
       "     <cc:Agent>\r\n",
       "      <dc:title>Matplotlib v3.3.4, https://matplotlib.org/</dc:title>\r\n",
       "     </cc:Agent>\r\n",
       "    </dc:creator>\r\n",
       "   </cc:Work>\r\n",
       "  </rdf:RDF>\r\n",
       " </metadata>\r\n",
       " <defs>\r\n",
       "  <style type=\"text/css\">*{stroke-linecap:butt;stroke-linejoin:round;}</style>\r\n",
       " </defs>\r\n",
       " <g id=\"figure_1\">\r\n",
       "  <g id=\"patch_1\">\r\n",
       "   <path d=\"M 0 144.8087 \r\n",
       "L 360.220312 144.8087 \r\n",
       "L 360.220312 0 \r\n",
       "L 0 0 \r\n",
       "z\r\n",
       "\" style=\"fill:none;\"/>\r\n",
       "  </g>\r\n",
       "  <g id=\"axes_1\">\r\n",
       "   <g id=\"patch_2\">\r\n",
       "    <path clip-path=\"url(#p381820f50b)\" d=\"M 204.610313 58.0487 \r\n",
       "C 208.66792 58.0487 212.559885 56.436595 215.429046 53.567434 \r\n",
       "C 218.298208 50.698272 219.910313 46.806307 219.910313 42.7487 \r\n",
       "C 219.910313 38.691093 218.298208 34.799128 215.429046 31.929966 \r\n",
       "C 212.559885 29.060805 208.66792 27.4487 204.610313 27.4487 \r\n",
       "C 200.552705 27.4487 196.66074 29.060805 193.791579 31.929966 \r\n",
       "C 190.922417 34.799128 189.310313 38.691093 189.310313 42.7487 \r\n",
       "C 189.310313 46.806307 190.922417 50.698272 193.791579 53.567434 \r\n",
       "C 196.66074 56.436595 200.552705 58.0487 204.610313 58.0487 \r\n",
       "z\r\n",
       "\" style=\"fill:none;stroke:#000000;stroke-linejoin:miter;stroke-width:2;\"/>\r\n",
       "   </g>\r\n",
       "   <g id=\"patch_3\">\r\n",
       "    <path clip-path=\"url(#p381820f50b)\" d=\"M 66.910313 103.9487 \r\n",
       "C 70.96792 103.9487 74.859885 102.336595 77.729046 99.467434 \r\n",
       "C 80.598208 96.598272 82.210313 92.706307 82.210313 88.6487 \r\n",
       "C 82.210313 84.591093 80.598208 80.699128 77.729046 77.829966 \r\n",
       "C 74.859885 74.960805 70.96792 73.3487 66.910313 73.3487 \r\n",
       "C 62.852705 73.3487 58.96074 74.960805 56.091579 77.829966 \r\n",
       "C 53.222417 80.699128 51.610313 84.591093 51.610313 88.6487 \r\n",
       "C 51.610313 92.706307 53.222417 96.598272 56.091579 99.467434 \r\n",
       "C 58.96074 102.336595 62.852705 103.9487 66.910313 103.9487 \r\n",
       "z\r\n",
       "\" style=\"fill:none;stroke:#000000;stroke-linejoin:miter;stroke-width:2;\"/>\r\n",
       "   </g>\r\n",
       "   <g id=\"line2d_1\">\r\n",
       "    <path clip-path=\"url(#p381820f50b)\" d=\"M 158.710313 42.7487 \r\n",
       "L 189.310313 42.7487 \r\n",
       "L 189.310313 42.7487 \r\n",
       "M 219.910313 42.7487 \r\n",
       "L 219.910313 42.7487 \r\n",
       "L 250.510313 42.7487 \r\n",
       "\" style=\"fill:none;stroke:#000000;stroke-linecap:round;stroke-width:2;\"/>\r\n",
       "   </g>\r\n",
       "   <g id=\"line2d_2\">\r\n",
       "    <path clip-path=\"url(#p381820f50b)\" d=\"M 250.510313 42.7487 \r\n",
       "L 296.410313 42.7487 \r\n",
       "L 342.310313 42.7487 \r\n",
       "\" style=\"fill:none;stroke:#000000;stroke-linecap:round;stroke-width:2;\"/>\r\n",
       "   </g>\r\n",
       "   <g id=\"line2d_3\">\r\n",
       "    <path clip-path=\"url(#p381820f50b)\" d=\"M 342.310313 42.7487 \r\n",
       "L 342.310313 73.3487 \r\n",
       "L 349.960313 73.3487 \r\n",
       "L 349.960313 103.9487 \r\n",
       "L 334.660313 103.9487 \r\n",
       "L 334.660313 73.3487 \r\n",
       "L 342.310313 73.3487 \r\n",
       "M 342.310313 103.9487 \r\n",
       "L 342.310313 134.5487 \r\n",
       "\" style=\"fill:none;stroke:#000000;stroke-linecap:round;stroke-width:2;\"/>\r\n",
       "   </g>\r\n",
       "   <g id=\"line2d_4\">\r\n",
       "    <path clip-path=\"url(#p381820f50b)\" d=\"M 342.310313 134.5487 \r\n",
       "L 296.410313 134.5487 \r\n",
       "L 250.510313 134.5487 \r\n",
       "\" style=\"fill:none;stroke:#000000;stroke-linecap:round;stroke-width:2;\"/>\r\n",
       "   </g>\r\n",
       "   <g id=\"line2d_5\">\r\n",
       "    <path clip-path=\"url(#p381820f50b)\" d=\"M 250.510313 134.5487 \r\n",
       "L 204.610313 134.5487 \r\n",
       "L 158.710313 134.5487 \r\n",
       "\" style=\"fill:none;stroke:#000000;stroke-linecap:round;stroke-width:2;\"/>\r\n",
       "   </g>\r\n",
       "   <g id=\"line2d_6\">\r\n",
       "    <path clip-path=\"url(#p381820f50b)\" d=\"M 158.710313 134.5487 \r\n",
       "L 158.710313 97.25495 \r\n",
       "M 158.710313 80.04245 \r\n",
       "L 158.710313 42.7487 \r\n",
       "\" style=\"fill:none;stroke:#000000;stroke-linecap:round;stroke-width:2;\"/>\r\n",
       "   </g>\r\n",
       "   <g id=\"line2d_7\">\r\n",
       "    <path clip-path=\"url(#p381820f50b)\" d=\"M 147.235313 97.25495 \r\n",
       "L 170.185313 97.25495 \r\n",
       "\" style=\"fill:none;stroke:#000000;stroke-linecap:round;stroke-width:2;\"/>\r\n",
       "   </g>\r\n",
       "   <g id=\"line2d_8\">\r\n",
       "    <path clip-path=\"url(#p381820f50b)\" d=\"M 152.972813 91.51745 \r\n",
       "L 164.447813 91.51745 \r\n",
       "\" style=\"fill:none;stroke:#000000;stroke-linecap:round;stroke-width:2;\"/>\r\n",
       "   </g>\r\n",
       "   <g id=\"line2d_9\">\r\n",
       "    <path clip-path=\"url(#p381820f50b)\" d=\"M 147.235313 85.77995 \r\n",
       "L 170.185313 85.77995 \r\n",
       "\" style=\"fill:none;stroke:#000000;stroke-linecap:round;stroke-width:2;\"/>\r\n",
       "   </g>\r\n",
       "   <g id=\"line2d_10\">\r\n",
       "    <path clip-path=\"url(#p381820f50b)\" d=\"M 152.972813 80.04245 \r\n",
       "L 164.447813 80.04245 \r\n",
       "\" style=\"fill:none;stroke:#000000;stroke-linecap:round;stroke-width:2;\"/>\r\n",
       "   </g>\r\n",
       "   <g id=\"line2d_11\">\r\n",
       "    <path clip-path=\"url(#p381820f50b)\" d=\"M 158.710313 42.7487 \r\n",
       "L 112.810313 42.7487 \r\n",
       "L 66.910313 42.7487 \r\n",
       "\" style=\"fill:none;stroke:#000000;stroke-linecap:round;stroke-width:2;\"/>\r\n",
       "   </g>\r\n",
       "   <g id=\"line2d_12\">\r\n",
       "    <path clip-path=\"url(#p381820f50b)\" d=\"M 66.910313 42.7487 \r\n",
       "L 66.910313 73.3487 \r\n",
       "L 66.910313 73.3487 \r\n",
       "M 66.910313 103.9487 \r\n",
       "L 66.910313 103.9487 \r\n",
       "L 66.910313 134.5487 \r\n",
       "\" style=\"fill:none;stroke:#000000;stroke-linecap:round;stroke-width:2;\"/>\r\n",
       "   </g>\r\n",
       "   <g id=\"line2d_13\">\r\n",
       "    <path clip-path=\"url(#p381820f50b)\" d=\"M 63.850313 80.9987 \r\n",
       "L 69.970313 80.9987 \r\n",
       "\" style=\"fill:none;stroke:#000000;stroke-linecap:round;stroke-width:2;\"/>\r\n",
       "   </g>\r\n",
       "   <g id=\"line2d_14\">\r\n",
       "    <path clip-path=\"url(#p381820f50b)\" d=\"M 66.910313 93.2387 \r\n",
       "L 66.910313 99.3587 \r\n",
       "\" style=\"fill:none;stroke:#000000;stroke-linecap:round;stroke-width:2;\"/>\r\n",
       "   </g>\r\n",
       "   <g id=\"line2d_15\">\r\n",
       "    <path clip-path=\"url(#p381820f50b)\" d=\"M 63.850313 96.2987 \r\n",
       "L 69.970313 96.2987 \r\n",
       "\" style=\"fill:none;stroke:#000000;stroke-linecap:round;stroke-width:2;\"/>\r\n",
       "   </g>\r\n",
       "   <g id=\"line2d_16\">\r\n",
       "    <path clip-path=\"url(#p381820f50b)\" d=\"M 66.910313 134.5487 \r\n",
       "L 112.810313 134.5487 \r\n",
       "L 158.710313 134.5487 \r\n",
       "\" style=\"fill:none;stroke:#000000;stroke-linecap:round;stroke-width:2;\"/>\r\n",
       "   </g>\r\n",
       "   <g id=\"text_1\">\r\n",
       "    <!-- A -->\r\n",
       "    <g transform=\"translate(199.821875 46.611825)scale(0.14 -0.14)\">\r\n",
       "     <defs>\r\n",
       "      <path d=\"M 34.1875 63.1875 \r\n",
       "L 20.796875 26.90625 \r\n",
       "L 47.609375 26.90625 \r\n",
       "z\r\n",
       "M 28.609375 72.90625 \r\n",
       "L 39.796875 72.90625 \r\n",
       "L 67.578125 0 \r\n",
       "L 57.328125 0 \r\n",
       "L 50.6875 18.703125 \r\n",
       "L 17.828125 18.703125 \r\n",
       "L 11.1875 0 \r\n",
       "L 0.78125 0 \r\n",
       "z\r\n",
       "\" id=\"DejaVuSans-65\"/>\r\n",
       "     </defs>\r\n",
       "     <use xlink:href=\"#DejaVuSans-65\"/>\r\n",
       "    </g>\r\n",
       "   </g>\r\n",
       "   <g id=\"text_2\">\r\n",
       "    <!-- 0-1A -->\r\n",
       "    <g transform=\"translate(188.388906 21.477138)scale(0.14 -0.14)\">\r\n",
       "     <defs>\r\n",
       "      <path d=\"M 31.78125 66.40625 \r\n",
       "Q 24.171875 66.40625 20.328125 58.90625 \r\n",
       "Q 16.5 51.421875 16.5 36.375 \r\n",
       "Q 16.5 21.390625 20.328125 13.890625 \r\n",
       "Q 24.171875 6.390625 31.78125 6.390625 \r\n",
       "Q 39.453125 6.390625 43.28125 13.890625 \r\n",
       "Q 47.125 21.390625 47.125 36.375 \r\n",
       "Q 47.125 51.421875 43.28125 58.90625 \r\n",
       "Q 39.453125 66.40625 31.78125 66.40625 \r\n",
       "z\r\n",
       "M 31.78125 74.21875 \r\n",
       "Q 44.046875 74.21875 50.515625 64.515625 \r\n",
       "Q 56.984375 54.828125 56.984375 36.375 \r\n",
       "Q 56.984375 17.96875 50.515625 8.265625 \r\n",
       "Q 44.046875 -1.421875 31.78125 -1.421875 \r\n",
       "Q 19.53125 -1.421875 13.0625 8.265625 \r\n",
       "Q 6.59375 17.96875 6.59375 36.375 \r\n",
       "Q 6.59375 54.828125 13.0625 64.515625 \r\n",
       "Q 19.53125 74.21875 31.78125 74.21875 \r\n",
       "z\r\n",
       "\" id=\"DejaVuSans-48\"/>\r\n",
       "      <path d=\"M 4.890625 31.390625 \r\n",
       "L 31.203125 31.390625 \r\n",
       "L 31.203125 23.390625 \r\n",
       "L 4.890625 23.390625 \r\n",
       "z\r\n",
       "\" id=\"DejaVuSans-45\"/>\r\n",
       "      <path d=\"M 12.40625 8.296875 \r\n",
       "L 28.515625 8.296875 \r\n",
       "L 28.515625 63.921875 \r\n",
       "L 10.984375 60.40625 \r\n",
       "L 10.984375 69.390625 \r\n",
       "L 28.421875 72.90625 \r\n",
       "L 38.28125 72.90625 \r\n",
       "L 38.28125 8.296875 \r\n",
       "L 54.390625 8.296875 \r\n",
       "L 54.390625 0 \r\n",
       "L 12.40625 0 \r\n",
       "z\r\n",
       "\" id=\"DejaVuSans-49\"/>\r\n",
       "     </defs>\r\n",
       "     <use xlink:href=\"#DejaVuSans-48\"/>\r\n",
       "     <use x=\"63.623047\" xlink:href=\"#DejaVuSans-45\"/>\r\n",
       "     <use x=\"99.707031\" xlink:href=\"#DejaVuSans-49\"/>\r\n",
       "     <use x=\"163.330078\" xlink:href=\"#DejaVuSans-65\"/>\r\n",
       "    </g>\r\n",
       "   </g>\r\n",
       "   <g id=\"text_3\">\r\n",
       "    <!-- Component 1 -->\r\n",
       "    <g transform=\"translate(236.9625 92.511825)scale(0.14 -0.14)\">\r\n",
       "     <defs>\r\n",
       "      <path d=\"M 64.40625 67.28125 \r\n",
       "L 64.40625 56.890625 \r\n",
       "Q 59.421875 61.53125 53.78125 63.8125 \r\n",
       "Q 48.140625 66.109375 41.796875 66.109375 \r\n",
       "Q 29.296875 66.109375 22.65625 58.46875 \r\n",
       "Q 16.015625 50.828125 16.015625 36.375 \r\n",
       "Q 16.015625 21.96875 22.65625 14.328125 \r\n",
       "Q 29.296875 6.6875 41.796875 6.6875 \r\n",
       "Q 48.140625 6.6875 53.78125 8.984375 \r\n",
       "Q 59.421875 11.28125 64.40625 15.921875 \r\n",
       "L 64.40625 5.609375 \r\n",
       "Q 59.234375 2.09375 53.4375 0.328125 \r\n",
       "Q 47.65625 -1.421875 41.21875 -1.421875 \r\n",
       "Q 24.65625 -1.421875 15.125 8.703125 \r\n",
       "Q 5.609375 18.84375 5.609375 36.375 \r\n",
       "Q 5.609375 53.953125 15.125 64.078125 \r\n",
       "Q 24.65625 74.21875 41.21875 74.21875 \r\n",
       "Q 47.75 74.21875 53.53125 72.484375 \r\n",
       "Q 59.328125 70.75 64.40625 67.28125 \r\n",
       "z\r\n",
       "\" id=\"DejaVuSans-67\"/>\r\n",
       "      <path d=\"M 30.609375 48.390625 \r\n",
       "Q 23.390625 48.390625 19.1875 42.75 \r\n",
       "Q 14.984375 37.109375 14.984375 27.296875 \r\n",
       "Q 14.984375 17.484375 19.15625 11.84375 \r\n",
       "Q 23.34375 6.203125 30.609375 6.203125 \r\n",
       "Q 37.796875 6.203125 41.984375 11.859375 \r\n",
       "Q 46.1875 17.53125 46.1875 27.296875 \r\n",
       "Q 46.1875 37.015625 41.984375 42.703125 \r\n",
       "Q 37.796875 48.390625 30.609375 48.390625 \r\n",
       "z\r\n",
       "M 30.609375 56 \r\n",
       "Q 42.328125 56 49.015625 48.375 \r\n",
       "Q 55.71875 40.765625 55.71875 27.296875 \r\n",
       "Q 55.71875 13.875 49.015625 6.21875 \r\n",
       "Q 42.328125 -1.421875 30.609375 -1.421875 \r\n",
       "Q 18.84375 -1.421875 12.171875 6.21875 \r\n",
       "Q 5.515625 13.875 5.515625 27.296875 \r\n",
       "Q 5.515625 40.765625 12.171875 48.375 \r\n",
       "Q 18.84375 56 30.609375 56 \r\n",
       "z\r\n",
       "\" id=\"DejaVuSans-111\"/>\r\n",
       "      <path d=\"M 52 44.1875 \r\n",
       "Q 55.375 50.25 60.0625 53.125 \r\n",
       "Q 64.75 56 71.09375 56 \r\n",
       "Q 79.640625 56 84.28125 50.015625 \r\n",
       "Q 88.921875 44.046875 88.921875 33.015625 \r\n",
       "L 88.921875 0 \r\n",
       "L 79.890625 0 \r\n",
       "L 79.890625 32.71875 \r\n",
       "Q 79.890625 40.578125 77.09375 44.375 \r\n",
       "Q 74.3125 48.1875 68.609375 48.1875 \r\n",
       "Q 61.625 48.1875 57.5625 43.546875 \r\n",
       "Q 53.515625 38.921875 53.515625 30.90625 \r\n",
       "L 53.515625 0 \r\n",
       "L 44.484375 0 \r\n",
       "L 44.484375 32.71875 \r\n",
       "Q 44.484375 40.625 41.703125 44.40625 \r\n",
       "Q 38.921875 48.1875 33.109375 48.1875 \r\n",
       "Q 26.21875 48.1875 22.15625 43.53125 \r\n",
       "Q 18.109375 38.875 18.109375 30.90625 \r\n",
       "L 18.109375 0 \r\n",
       "L 9.078125 0 \r\n",
       "L 9.078125 54.6875 \r\n",
       "L 18.109375 54.6875 \r\n",
       "L 18.109375 46.1875 \r\n",
       "Q 21.1875 51.21875 25.484375 53.609375 \r\n",
       "Q 29.78125 56 35.6875 56 \r\n",
       "Q 41.65625 56 45.828125 52.96875 \r\n",
       "Q 50 49.953125 52 44.1875 \r\n",
       "z\r\n",
       "\" id=\"DejaVuSans-109\"/>\r\n",
       "      <path d=\"M 18.109375 8.203125 \r\n",
       "L 18.109375 -20.796875 \r\n",
       "L 9.078125 -20.796875 \r\n",
       "L 9.078125 54.6875 \r\n",
       "L 18.109375 54.6875 \r\n",
       "L 18.109375 46.390625 \r\n",
       "Q 20.953125 51.265625 25.265625 53.625 \r\n",
       "Q 29.59375 56 35.59375 56 \r\n",
       "Q 45.5625 56 51.78125 48.09375 \r\n",
       "Q 58.015625 40.1875 58.015625 27.296875 \r\n",
       "Q 58.015625 14.40625 51.78125 6.484375 \r\n",
       "Q 45.5625 -1.421875 35.59375 -1.421875 \r\n",
       "Q 29.59375 -1.421875 25.265625 0.953125 \r\n",
       "Q 20.953125 3.328125 18.109375 8.203125 \r\n",
       "z\r\n",
       "M 48.6875 27.296875 \r\n",
       "Q 48.6875 37.203125 44.609375 42.84375 \r\n",
       "Q 40.53125 48.484375 33.40625 48.484375 \r\n",
       "Q 26.265625 48.484375 22.1875 42.84375 \r\n",
       "Q 18.109375 37.203125 18.109375 27.296875 \r\n",
       "Q 18.109375 17.390625 22.1875 11.75 \r\n",
       "Q 26.265625 6.109375 33.40625 6.109375 \r\n",
       "Q 40.53125 6.109375 44.609375 11.75 \r\n",
       "Q 48.6875 17.390625 48.6875 27.296875 \r\n",
       "z\r\n",
       "\" id=\"DejaVuSans-112\"/>\r\n",
       "      <path d=\"M 54.890625 33.015625 \r\n",
       "L 54.890625 0 \r\n",
       "L 45.90625 0 \r\n",
       "L 45.90625 32.71875 \r\n",
       "Q 45.90625 40.484375 42.875 44.328125 \r\n",
       "Q 39.84375 48.1875 33.796875 48.1875 \r\n",
       "Q 26.515625 48.1875 22.3125 43.546875 \r\n",
       "Q 18.109375 38.921875 18.109375 30.90625 \r\n",
       "L 18.109375 0 \r\n",
       "L 9.078125 0 \r\n",
       "L 9.078125 54.6875 \r\n",
       "L 18.109375 54.6875 \r\n",
       "L 18.109375 46.1875 \r\n",
       "Q 21.34375 51.125 25.703125 53.5625 \r\n",
       "Q 30.078125 56 35.796875 56 \r\n",
       "Q 45.21875 56 50.046875 50.171875 \r\n",
       "Q 54.890625 44.34375 54.890625 33.015625 \r\n",
       "z\r\n",
       "\" id=\"DejaVuSans-110\"/>\r\n",
       "      <path d=\"M 56.203125 29.59375 \r\n",
       "L 56.203125 25.203125 \r\n",
       "L 14.890625 25.203125 \r\n",
       "Q 15.484375 15.921875 20.484375 11.0625 \r\n",
       "Q 25.484375 6.203125 34.421875 6.203125 \r\n",
       "Q 39.59375 6.203125 44.453125 7.46875 \r\n",
       "Q 49.3125 8.734375 54.109375 11.28125 \r\n",
       "L 54.109375 2.78125 \r\n",
       "Q 49.265625 0.734375 44.1875 -0.34375 \r\n",
       "Q 39.109375 -1.421875 33.890625 -1.421875 \r\n",
       "Q 20.796875 -1.421875 13.15625 6.1875 \r\n",
       "Q 5.515625 13.8125 5.515625 26.8125 \r\n",
       "Q 5.515625 40.234375 12.765625 48.109375 \r\n",
       "Q 20.015625 56 32.328125 56 \r\n",
       "Q 43.359375 56 49.78125 48.890625 \r\n",
       "Q 56.203125 41.796875 56.203125 29.59375 \r\n",
       "z\r\n",
       "M 47.21875 32.234375 \r\n",
       "Q 47.125 39.59375 43.09375 43.984375 \r\n",
       "Q 39.0625 48.390625 32.421875 48.390625 \r\n",
       "Q 24.90625 48.390625 20.390625 44.140625 \r\n",
       "Q 15.875 39.890625 15.1875 32.171875 \r\n",
       "z\r\n",
       "\" id=\"DejaVuSans-101\"/>\r\n",
       "      <path d=\"M 18.3125 70.21875 \r\n",
       "L 18.3125 54.6875 \r\n",
       "L 36.8125 54.6875 \r\n",
       "L 36.8125 47.703125 \r\n",
       "L 18.3125 47.703125 \r\n",
       "L 18.3125 18.015625 \r\n",
       "Q 18.3125 11.328125 20.140625 9.421875 \r\n",
       "Q 21.96875 7.515625 27.59375 7.515625 \r\n",
       "L 36.8125 7.515625 \r\n",
       "L 36.8125 0 \r\n",
       "L 27.59375 0 \r\n",
       "Q 17.1875 0 13.234375 3.875 \r\n",
       "Q 9.28125 7.765625 9.28125 18.015625 \r\n",
       "L 9.28125 47.703125 \r\n",
       "L 2.6875 47.703125 \r\n",
       "L 2.6875 54.6875 \r\n",
       "L 9.28125 54.6875 \r\n",
       "L 9.28125 70.21875 \r\n",
       "z\r\n",
       "\" id=\"DejaVuSans-116\"/>\r\n",
       "      <path id=\"DejaVuSans-32\"/>\r\n",
       "     </defs>\r\n",
       "     <use xlink:href=\"#DejaVuSans-67\"/>\r\n",
       "     <use x=\"69.824219\" xlink:href=\"#DejaVuSans-111\"/>\r\n",
       "     <use x=\"131.005859\" xlink:href=\"#DejaVuSans-109\"/>\r\n",
       "     <use x=\"228.417969\" xlink:href=\"#DejaVuSans-112\"/>\r\n",
       "     <use x=\"291.894531\" xlink:href=\"#DejaVuSans-111\"/>\r\n",
       "     <use x=\"353.076172\" xlink:href=\"#DejaVuSans-110\"/>\r\n",
       "     <use x=\"416.455078\" xlink:href=\"#DejaVuSans-101\"/>\r\n",
       "     <use x=\"477.978516\" xlink:href=\"#DejaVuSans-110\"/>\r\n",
       "     <use x=\"541.357422\" xlink:href=\"#DejaVuSans-116\"/>\r\n",
       "     <use x=\"580.566406\" xlink:href=\"#DejaVuSans-32\"/>\r\n",
       "     <use x=\"612.353516\" xlink:href=\"#DejaVuSans-49\"/>\r\n",
       "    </g>\r\n",
       "   </g>\r\n",
       "   <g id=\"text_4\">\r\n",
       "    <!-- PSU -->\r\n",
       "    <g transform=\"translate(116.599688 92.511825)scale(0.14 -0.14)\">\r\n",
       "     <defs>\r\n",
       "      <path d=\"M 19.671875 64.796875 \r\n",
       "L 19.671875 37.40625 \r\n",
       "L 32.078125 37.40625 \r\n",
       "Q 38.96875 37.40625 42.71875 40.96875 \r\n",
       "Q 46.484375 44.53125 46.484375 51.125 \r\n",
       "Q 46.484375 57.671875 42.71875 61.234375 \r\n",
       "Q 38.96875 64.796875 32.078125 64.796875 \r\n",
       "z\r\n",
       "M 9.8125 72.90625 \r\n",
       "L 32.078125 72.90625 \r\n",
       "Q 44.34375 72.90625 50.609375 67.359375 \r\n",
       "Q 56.890625 61.8125 56.890625 51.125 \r\n",
       "Q 56.890625 40.328125 50.609375 34.8125 \r\n",
       "Q 44.34375 29.296875 32.078125 29.296875 \r\n",
       "L 19.671875 29.296875 \r\n",
       "L 19.671875 0 \r\n",
       "L 9.8125 0 \r\n",
       "z\r\n",
       "\" id=\"DejaVuSans-80\"/>\r\n",
       "      <path d=\"M 53.515625 70.515625 \r\n",
       "L 53.515625 60.890625 \r\n",
       "Q 47.90625 63.578125 42.921875 64.890625 \r\n",
       "Q 37.9375 66.21875 33.296875 66.21875 \r\n",
       "Q 25.25 66.21875 20.875 63.09375 \r\n",
       "Q 16.5 59.96875 16.5 54.203125 \r\n",
       "Q 16.5 49.359375 19.40625 46.890625 \r\n",
       "Q 22.3125 44.4375 30.421875 42.921875 \r\n",
       "L 36.375 41.703125 \r\n",
       "Q 47.40625 39.59375 52.65625 34.296875 \r\n",
       "Q 57.90625 29 57.90625 20.125 \r\n",
       "Q 57.90625 9.515625 50.796875 4.046875 \r\n",
       "Q 43.703125 -1.421875 29.984375 -1.421875 \r\n",
       "Q 24.8125 -1.421875 18.96875 -0.25 \r\n",
       "Q 13.140625 0.921875 6.890625 3.21875 \r\n",
       "L 6.890625 13.375 \r\n",
       "Q 12.890625 10.015625 18.65625 8.296875 \r\n",
       "Q 24.421875 6.59375 29.984375 6.59375 \r\n",
       "Q 38.421875 6.59375 43.015625 9.90625 \r\n",
       "Q 47.609375 13.234375 47.609375 19.390625 \r\n",
       "Q 47.609375 24.75 44.3125 27.78125 \r\n",
       "Q 41.015625 30.8125 33.5 32.328125 \r\n",
       "L 27.484375 33.5 \r\n",
       "Q 16.453125 35.6875 11.515625 40.375 \r\n",
       "Q 6.59375 45.0625 6.59375 53.421875 \r\n",
       "Q 6.59375 63.09375 13.40625 68.65625 \r\n",
       "Q 20.21875 74.21875 32.171875 74.21875 \r\n",
       "Q 37.3125 74.21875 42.625 73.28125 \r\n",
       "Q 47.953125 72.359375 53.515625 70.515625 \r\n",
       "z\r\n",
       "\" id=\"DejaVuSans-83\"/>\r\n",
       "      <path d=\"M 8.6875 72.90625 \r\n",
       "L 18.609375 72.90625 \r\n",
       "L 18.609375 28.609375 \r\n",
       "Q 18.609375 16.890625 22.84375 11.734375 \r\n",
       "Q 27.09375 6.59375 36.625 6.59375 \r\n",
       "Q 46.09375 6.59375 50.34375 11.734375 \r\n",
       "Q 54.59375 16.890625 54.59375 28.609375 \r\n",
       "L 54.59375 72.90625 \r\n",
       "L 64.5 72.90625 \r\n",
       "L 64.5 27.390625 \r\n",
       "Q 64.5 13.140625 57.4375 5.859375 \r\n",
       "Q 50.390625 -1.421875 36.625 -1.421875 \r\n",
       "Q 22.796875 -1.421875 15.734375 5.859375 \r\n",
       "Q 8.6875 13.140625 8.6875 27.390625 \r\n",
       "z\r\n",
       "\" id=\"DejaVuSans-85\"/>\r\n",
       "     </defs>\r\n",
       "     <use xlink:href=\"#DejaVuSans-80\"/>\r\n",
       "     <use x=\"60.302734\" xlink:href=\"#DejaVuSans-83\"/>\r\n",
       "     <use x=\"123.779297\" xlink:href=\"#DejaVuSans-85\"/>\r\n",
       "    </g>\r\n",
       "   </g>\r\n",
       "   <g id=\"text_5\">\r\n",
       "    <!-- 0-10V -->\r\n",
       "    <g transform=\"translate(7.2 92.511825)scale(0.14 -0.14)\">\r\n",
       "     <defs>\r\n",
       "      <path d=\"M 28.609375 0 \r\n",
       "L 0.78125 72.90625 \r\n",
       "L 11.078125 72.90625 \r\n",
       "L 34.1875 11.53125 \r\n",
       "L 57.328125 72.90625 \r\n",
       "L 67.578125 72.90625 \r\n",
       "L 39.796875 0 \r\n",
       "z\r\n",
       "\" id=\"DejaVuSans-86\"/>\r\n",
       "     </defs>\r\n",
       "     <use xlink:href=\"#DejaVuSans-48\"/>\r\n",
       "     <use x=\"63.623047\" xlink:href=\"#DejaVuSans-45\"/>\r\n",
       "     <use x=\"99.707031\" xlink:href=\"#DejaVuSans-49\"/>\r\n",
       "     <use x=\"163.330078\" xlink:href=\"#DejaVuSans-48\"/>\r\n",
       "     <use x=\"226.953125\" xlink:href=\"#DejaVuSans-86\"/>\r\n",
       "    </g>\r\n",
       "   </g>\r\n",
       "  </g>\r\n",
       " </g>\r\n",
       " <defs>\r\n",
       "  <clipPath id=\"p381820f50b\">\r\n",
       "   <rect height=\"130.4087\" width=\"340.102\" x=\"12.918313\" y=\"7.2\"/>\r\n",
       "  </clipPath>\r\n",
       " </defs>\r\n",
       "</svg>\r\n"
      ],
      "text/plain": [
       "<schemdraw.backends.mpl.Figure object at 0x00000258E968AAF0>"
      ]
     },
     "execution_count": 2,
     "metadata": {},
     "output_type": "execute_result"
    }
   ],
   "source": [
    "d.draw()"
   ]
  },
  {
   "cell_type": "code",
   "execution_count": 3,
   "id": "601f99f6-24c1-49cf-bd13-24a9a9ef43af",
   "metadata": {},
   "outputs": [
    {
     "data": {
      "application/vnd.jupyter.widget-view+json": {
       "model_id": "7b8a3a977c59497abe51c6c682598b07",
       "version_major": 2,
       "version_minor": 0
      },
      "text/plain": [
       "Sheet(cells=(Cell(column_end=0, column_start=0, row_end=0, row_start=0, type='text', value='Applied Volts(V)')…"
      ]
     },
     "metadata": {},
     "output_type": "display_data"
    }
   ],
   "source": [
    "from ipysheet import sheet, cell, row, column, cell_range\n",
    "\n",
    "sheet1 = sheet(rows=11, columns=5)\n",
    "\n",
    "cell1 = cell(0, 0, 'Applied Volts(V)')\n",
    "cell2 = cell(0, 1, 'Comp.1')\n",
    "cell3 = cell(0, 2, 'Comp.2')\n",
    "cell4 = cell(0, 3, 'Comp.3')\n",
    "cell5 = cell(0, 4, 'Comp.4')\n",
    "\n",
    "cell11 = cell(1, 0, '1.0')\n",
    "cell12 = cell(2, 0, '2.0')\n",
    "cell13 = cell(3, 0, '3.0')\n",
    "cell14 = cell(4, 0, '4.0')\n",
    "cell15 = cell(5, 0, '5.0')\n",
    "cell16 = cell(6, 0, '6.0')\n",
    "cell17 = cell(7, 0, '7.0')\n",
    "cell18 = cell(8, 0, '8.0')\n",
    "cell19 = cell(9, 0, '9.0')\n",
    "cell10 = cell(10, 0, '10.0')\n",
    "\n",
    "sheet1"
   ]
  },
  {
   "cell_type": "code",
   "execution_count": 4,
   "id": "1aaf0a65-7101-4116-a0f7-c50240374a19",
   "metadata": {},
   "outputs": [],
   "source": [
    "\n",
    "from IPython.display import display, Markdown, clear_output\n",
    "import ipywidgets as widgets\n",
    "\n",
    "text = widgets.Text(\n",
    "       value='My Text',\n",
    "       description='Title', )\n",
    "\n",
    "calendar = widgets.DatePicker(\n",
    "           description='Select Date')\n",
    "\n",
    "slider = widgets.FloatSlider(\n",
    "         value=1,\n",
    "         min=0,\n",
    "         max=10.0,\n",
    "         step=0.1,)\n",
    "\n",
    "menu = widgets.Dropdown(\n",
    "       options=['red', 'blue', 'green'],\n",
    "       value='red',\n",
    "       description='Color:')\n",
    "\n",
    "checkbox = widgets.Checkbox(\n",
    "           description='Check to invert',)\n",
    "\n",
    "\n",
    "box = widgets.VBox([text, slider, menu, calendar, checkbox ])"
   ]
  },
  {
   "cell_type": "code",
   "execution_count": 5,
   "id": "572a7617-690e-4b7f-8031-c1f15a23d92c",
   "metadata": {},
   "outputs": [
    {
     "data": {
      "application/vnd.jupyter.widget-view+json": {
       "model_id": "42a37c0e757e47eeabcf18fb87442e6c",
       "version_major": 2,
       "version_minor": 0
      },
      "text/plain": [
       "Dropdown(description='Color:', options=('red', 'blue', 'green'), value='red')"
      ]
     },
     "metadata": {},
     "output_type": "display_data"
    }
   ],
   "source": [
    "menu"
   ]
  },
  {
   "cell_type": "code",
   "execution_count": 6,
   "id": "876070f1-164f-46e2-a19f-d6269981bbb5",
   "metadata": {},
   "outputs": [],
   "source": [
    "from ipysheet import sheet, current\n",
    "\n",
    "s1 = sheet('key1')\n",
    "s2 = sheet('key2')\n",
    "\n",
    "assert s2 is current()\n",
    "assert s1 is sheet('key1')\n",
    "assert s1 is current()"
   ]
  },
  {
   "cell_type": "code",
   "execution_count": 7,
   "id": "2e920b58-2454-4568-974b-107ff38d4aca",
   "metadata": {},
   "outputs": [],
   "source": [
    "from ipywidgets import IntSlider\n",
    ">>> from ipysheet import cell, calculation\n",
    ">>>\n",
    ">>> a = cell(0, 0, value=1)\n",
    ">>> b = cell(1, 0, value=IntSlider(value=2))\n",
    ">>> c = IntSlider(max=56)\n",
    ">>> d = cell(3, 0, value=1)\n",
    ">>>\n",
    ">>> @calculation(inputs=[a, (b, 'value'), (c, 'max')], output=d)\n",
    ">>> def add(a, b, c):\n",
    ">>>     return a + b + c"
   ]
  },
  {
   "cell_type": "code",
   "execution_count": null,
   "id": "390dfaf7-8e47-4df3-98af-5f02a847e2ad",
   "metadata": {},
   "outputs": [],
   "source": []
  },
  {
   "cell_type": "code",
   "execution_count": 8,
   "id": "7072b1d0-f048-4d9e-924a-6af1af2068ac",
   "metadata": {},
   "outputs": [
    {
     "data": {
      "application/vnd.jupyter.widget-view+json": {
       "model_id": "bbb5bfaff4564821af4c3e63dc49d060",
       "version_major": 2,
       "version_minor": 0
      },
      "text/plain": [
       "ToggleButton(value=True, button_style='success', description='Click me', icon='check', tooltip='good')"
      ]
     },
     "metadata": {},
     "output_type": "display_data"
    }
   ],
   "source": [
    "from IPython.display import display, Markdown, clear_output\n",
    "import ipywidgets as widgets\n",
    "\n",
    "text = widgets.Text(\n",
    "       value='',\n",
    "       description='Title', )\n",
    "\n",
    "calendar = widgets.DatePicker(\n",
    "           description='Select Date')\n",
    "\n",
    "slider = widgets.FloatSlider(\n",
    "         value=1,\n",
    "         min=0,\n",
    "         max=10.0,\n",
    "         step=0.1,)\n",
    "\n",
    "\n",
    "menu = widgets.Dropdown(\n",
    "       options=['red', 'blue', 'green'],\n",
    "       value='red',\n",
    "       description='Color:')\n",
    "\n",
    "checkbox = widgets.Checkbox(\n",
    "           description='Check to invert',)\n",
    "\n",
    "button =widgets.ToggleButton(\n",
    "    value=True,\n",
    "    description='Click me',\n",
    "    disabled=False,\n",
    "    button_style='success', # 'success', 'info', 'warning', 'danger' or ''\n",
    "    tooltip='good',\n",
    "    icon='check'# (FontAwesome names without the `fa-` prefix)\n",
    ")\n",
    "\n",
    "\n",
    "box = widgets.VBox([text, slider, menu, calendar, checkbox ])\n",
    "\n",
    "button"
   ]
  },
  {
   "cell_type": "code",
   "execution_count": 9,
   "id": "677a02b9",
   "metadata": {},
   "outputs": [
    {
     "data": {
      "application/vnd.jupyter.widget-view+json": {
       "model_id": "fb5a5ca9c403432c85c3457d907bffa5",
       "version_major": 2,
       "version_minor": 0
      },
      "text/plain": [
       "Button(description='Click Me!', style=ButtonStyle())"
      ]
     },
     "metadata": {},
     "output_type": "display_data"
    },
    {
     "data": {
      "application/vnd.jupyter.widget-view+json": {
       "model_id": "a8ab39c4bda64666b98b2ef9ced8174b",
       "version_major": 2,
       "version_minor": 0
      },
      "text/plain": [
       "Output()"
      ]
     },
     "metadata": {},
     "output_type": "display_data"
    }
   ],
   "source": [
    "from IPython.display import display\n",
    "button = widgets.Button(description=\"Click Me!\")\n",
    "output = widgets.Output()\n",
    "\n",
    "display(button, output)\n",
    "\n",
    "def on_button_clicked(b):\n",
    "    with output:\n",
    "        print(\"Button clicked.\")\n",
    "\n",
    "button.on_click(on_button_clicked)"
   ]
  },
  {
   "cell_type": "code",
   "execution_count": 10,
   "id": "08e9eae1-bac0-409f-884b-fefb2fcbc591",
   "metadata": {},
   "outputs": [],
   "source": [
    "import ipysheet\n",
    "from ipysheet import calculation\n",
    "import ipywidgets\n",
    "import pandas as pd\n",
    "import numpy as np"
   ]
  },
  {
   "cell_type": "code",
   "execution_count": 11,
   "id": "04948710-6957-4318-840f-79d0cb250538",
   "metadata": {},
   "outputs": [
    {
     "data": {
      "application/vnd.jupyter.widget-view+json": {
       "model_id": "88744916abfd480fa8d882910e411128",
       "version_major": 2,
       "version_minor": 0
      },
      "text/plain": [
       "Sheet(columns=5, layout=Layout(height='auto', width='auto'), rows=5)"
      ]
     },
     "metadata": {},
     "output_type": "display_data"
    }
   ],
   "source": [
    "sheet = ipysheet.sheet()\n",
    "\n",
    "sheet"
   ]
  },
  {
   "cell_type": "code",
   "execution_count": 12,
   "id": "ccb0e948",
   "metadata": {},
   "outputs": [],
   "source": [
    "from ipysheet import cell, sheet, row, column, cell_range\n",
    "\n",
    "sheet1 = sheet(rows=8, columns=2, column_headers=False, row_headers=False)\n",
    "cell_a = cell(0, 1, 5.20, label_left='V_t(V)')\n",
    "cell_b = cell(1, 1, 13.2, label_left='R_1(mΩ)')\n",
    "cell_c = cell(2, 1, 21, label_left='R_2(mΩ)')\n",
    "cell_d = cell(3, 1, 3.6, label_left='R_3(mΩ)')\n",
    "cell_e = cell(4, 1, 15.2, label_left='R_4(mΩ)')\n",
    "cell_f = cell(5, 1, 11.9, label_left='R_5(mΩ)')\n",
    "cell_g = cell(6, 1, 2.2, label_left='R_6(mΩ)')\n",
    "cell_h = cell(7, 1, 7.4, label_left='R_7(mΩ)')\n",
    "\n",
    "\n",
    "import matplotlib.pyplot as plt\n",
    "%matplotlib inline\n",
    "%config InlineBackend.figure_format = 'svg'\n",
    "import schemdraw as schem\n",
    "import schemdraw.elements as e\n",
    "\n",
    "d = schem.Drawing(unit=2.5)\n",
    "R7 = d.add(e.RES, d='right', botlabel='$R_7$')\n",
    "R6 = d.add(e.RES, d='right', botlabel='$R_6$')\n",
    "d.add(e.LINE, d='right', l=2)\n",
    "d.add(e.LINE, d='right', l=2)\n",
    "R5 = d.add(e.RES, d='up' , botlabel='$R_5$')\n",
    "R4 = d.add(e.RES, d='up', botlabel='$R_4$')\n",
    "d.add(e.LINE, d='left', l=2)\n",
    "d.push()\n",
    "R3 = d.add(e.RES, d='down', toy=R6.end, botlabel='$R_3$')\n",
    "d.pop()\n",
    "d.add(e.LINE, d='left', l=2)\n",
    "d.push()\n",
    "R2 = d.add(e.RES, d='down', toy=R6.end, botlabel='$R_2$')\n",
    "d.pop()\n",
    "R1 = d.add(e.RES, d='left', tox=R7.start, label='$R_1$')\n",
    "Vt = d.add(e.BATTERY, d='up', xy=R7.start, toy=R1.end, label='$V_t$', lblofst=0.3)\n",
    "d.labelI(Vt, arrowlen=1.5, arrowofst=0.5)\n",
    "d.draw()\n",
    "d.save('7_resistors_3_loops.png')"
   ]
  },
  {
   "cell_type": "code",
   "execution_count": 13,
   "id": "7f70aa14",
   "metadata": {},
   "outputs": [
    {
     "data": {
      "application/vnd.jupyter.widget-view+json": {
       "model_id": "90245c3ab72d44e3b004bc3c8fb0e953",
       "version_major": 2,
       "version_minor": 0
      },
      "text/plain": [
       "Sheet(cells=(Cell(column_end=1, column_start=1, row_end=0, row_start=0, type='numeric', value=5.2), Cell(colum…"
      ]
     },
     "metadata": {},
     "output_type": "display_data"
    }
   ],
   "source": [
    "sheet1\n"
   ]
  },
  {
   "cell_type": "code",
   "execution_count": 14,
   "id": "f2dd55e7",
   "metadata": {},
   "outputs": [
    {
     "name": "stdout",
     "output_type": "stream",
     "text": [
      "Node load:  9.90 V\n"
     ]
    }
   ],
   "source": [
    "import PySpice.Logging.Logging as Logging\n",
    "logger = Logging.setup_logging()\n",
    "\n",
    "\n",
    "from PySpice.Spice.Netlist import Circuit\n",
    "from PySpice.Unit import *\n",
    "\n",
    "thevenin_circuit = Circuit('Thévenin Representation')\n",
    "\n",
    "thevenin_circuit.V('input', 1, thevenin_circuit.gnd, 10@u_V)\n",
    "thevenin_circuit.R('generator', 1, 'load', 10@u_Ω)\n",
    "thevenin_circuit.R('load', 'load', thevenin_circuit.gnd, 1@u_kΩ)\n",
    "\n",
    "simulator = thevenin_circuit.simulator(temperature=25, nominal_temperature=25)\n",
    "analysis = simulator.operating_point()\n",
    "\n",
    "load_node = analysis.load\n",
    "print('Node {}: {:5.2f} V'.format(str(load_node), float(load_node)))"
   ]
  },
  {
   "cell_type": "code",
   "execution_count": 15,
   "id": "fbbbb438",
   "metadata": {},
   "outputs": [
    {
     "data": {
      "application/vnd.jupyter.widget-view+json": {
       "model_id": "d506b4bcb8664412a038310f0e1b6b85",
       "version_major": 2,
       "version_minor": 0
      },
      "text/plain": [
       "IntSlider(value=5)"
      ]
     },
     "metadata": {},
     "output_type": "display_data"
    }
   ],
   "source": [
    "import ipywidgets as widgets\n",
    "\n",
    "class Updated:\n",
    "\n",
    "    def __init__(self):\n",
    "        self.widget_value = None\n",
    "        self.derived_value = None\n",
    "\n",
    "    def update(self, val_dict) -> None:\n",
    "        self.widget_value = val_dict['new']\n",
    "        self.derived_value = self.widget_value + 10\n",
    "\n",
    "update_class = Updated()\n",
    "\n",
    "x = 5\n",
    "y = []\n",
    "slider = widgets.IntSlider()\n",
    "slider.value = x\n",
    "\n",
    "def on_change(v):\n",
    "    update_class.update(v)\n",
    "slider.observe(on_change, names='value')\n",
    "display(slider)"
   ]
  },
  {
   "cell_type": "code",
   "execution_count": 16,
   "id": "483f3e16",
   "metadata": {},
   "outputs": [
    {
     "data": {
      "application/vnd.jupyter.widget-view+json": {
       "model_id": "644ac7422dac46a7892389ff891a844a",
       "version_major": 2,
       "version_minor": 0
      },
      "text/plain": [
       "interactive(children=(IntSlider(value=10, description='x', max=30, min=-10), Output()), _dom_classes=('widget-…"
      ]
     },
     "metadata": {},
     "output_type": "display_data"
    },
    {
     "name": "stdout",
     "output_type": "stream",
     "text": [
      "10\n",
      "1000\n"
     ]
    }
   ],
   "source": [
    "from ipywidgets import widgets, interact\n",
    "\n",
    "# Create text widget for output\n",
    "output_slider_variable = widgets.Text()\n",
    "\n",
    "# Define function to bind value of the input to the output variable \n",
    "def f(x):\n",
    "    output_slider_variable.value = str(x)\n",
    "\n",
    "# Create input slider with default value = 10    \n",
    "interact(f, x=10)\n",
    "\n",
    "# Display output variable in text box\n",
    "output_slider_variable\n",
    "\n",
    "# Create and output new int variable with value of slider\n",
    "new_variable = int(output_slider_variable.value)\n",
    "print (new_variable)\n",
    "\n",
    "# Do something with new variable, e.g. cube\n",
    "new_variable_cubed = pow(new_variable, 3)\n",
    "print (new_variable_cubed)"
   ]
  },
  {
   "cell_type": "code",
   "execution_count": null,
   "id": "70b6eec9",
   "metadata": {},
   "outputs": [],
   "source": []
  },
  {
   "cell_type": "code",
   "execution_count": 17,
   "id": "88881a1a",
   "metadata": {},
   "outputs": [
    {
     "data": {
      "text/plain": [
       "<bound method Kernel.raw_input of <ipykernel.ipkernel.IPythonKernel object at 0x00000258E6A18E50>>"
      ]
     },
     "execution_count": 17,
     "metadata": {},
     "output_type": "execute_result"
    }
   ],
   "source": [
    "input"
   ]
  },
  {
   "cell_type": "code",
   "execution_count": 18,
   "id": "da312da7",
   "metadata": {},
   "outputs": [
    {
     "data": {
      "application/vnd.jupyter.widget-view+json": {
       "model_id": "d61b2302b22449fa93bde8d644355ea7",
       "version_major": 2,
       "version_minor": 0
      },
      "text/plain": [
       "interactive(children=(IntSlider(value=10, description='x', max=30, min=-10), Output()), _dom_classes=('widget-…"
      ]
     },
     "metadata": {},
     "output_type": "display_data"
    },
    {
     "data": {
      "application/vnd.jupyter.widget-view+json": {
       "model_id": "d53de2675e22493d87a6811d41f906a5",
       "version_major": 2,
       "version_minor": 0
      },
      "text/plain": [
       "interactive(children=(Checkbox(value=True, description='x'), Output()), _dom_classes=('widget-interact',))"
      ]
     },
     "metadata": {},
     "output_type": "display_data"
    }
   ],
   "source": [
    "from __future__ import print_function\n",
    "from ipywidgets import interact, interactive, fixed, interact_manual\n",
    "import ipywidgets as widgets\n",
    "\n",
    "def f(x):\n",
    "    return x\n",
    "\n",
    "interact(f, x=10);\n",
    "interact(f, x=True);"
   ]
  },
  {
   "cell_type": "code",
   "execution_count": 2,
   "id": "0814b179",
   "metadata": {},
   "outputs": [],
   "source": [
    "%matplotlib widget\n",
    "import ipywidgets as widgets\n",
    "import matplotlib.pyplot as plt\n",
    "import numpy as np\n",
    "from ipywidgets import Button, Layout, jslink, IntText, IntSlider"
   ]
  },
  {
   "cell_type": "code",
   "execution_count": 3,
   "id": "cdbfc579",
   "metadata": {},
   "outputs": [
    {
     "data": {
      "application/vnd.jupyter.widget-view+json": {
       "model_id": "9718bafbadaa46ce8df6acefbbedaad1",
       "version_major": 2,
       "version_minor": 0
      },
      "text/plain": [
       "Output()"
      ]
     },
     "metadata": {},
     "output_type": "display_data"
    }
   ],
   "source": [
    "output = widgets.Output()\n",
    " \n",
    "# create some x data\n",
    "x = np.linspace(0, 2 * np.pi, 100)\n",
    " \n",
    "# default line color\n",
    "initial_color = '#FF00DD'\n",
    " \n",
    "with output:\n",
    "    fig, ax = plt.subplots(constrained_layout=True, figsize=(6, 4))\n",
    "     \n",
    "# move the toolbar to the bottom\n",
    "fig.canvas.toolbar_position = 'bottom'\n",
    "ax.grid(True)    \n",
    "line, = ax.plot(x, np.sin(x), initial_color)\n",
    "\n",
    "output"
   ]
  },
  {
   "cell_type": "code",
   "execution_count": 4,
   "id": "2cd49753",
   "metadata": {},
   "outputs": [
    {
     "data": {
      "application/vnd.jupyter.widget-view+json": {
       "model_id": "5bbb564cf24d40ebadb095a506a87f7c",
       "version_major": 2,
       "version_minor": 0
      },
      "text/plain": [
       "Canvas(toolbar=Toolbar(toolitems=[('Home', 'Reset original view', 'home', 'home'), ('Back', 'Back to previous …"
      ]
     },
     "metadata": {},
     "output_type": "display_data"
    },
    {
     "data": {
      "application/vnd.jupyter.widget-view+json": {
       "model_id": "f0363b614c2541678c16a559ba85633e",
       "version_major": 2,
       "version_minor": 0
      },
      "text/plain": [
       "interactive(children=(IntSlider(value=1, description='w', max=10), FloatSlider(value=1.0, description='amp', m…"
      ]
     },
     "metadata": {},
     "output_type": "display_data"
    }
   ],
   "source": [
    "# set up plot\n",
    "fig, ax = plt.subplots(figsize=(6, 4))\n",
    "ax.set_ylim([-4, 4])\n",
    "ax.grid(True)\n",
    " \n",
    "# generate x values\n",
    "x = np.linspace(0, 2 * np.pi, 100)\n",
    " \n",
    " \n",
    "def my_sine(x, w, amp, phi):\n",
    "    \"\"\"\n",
    "    Return a sine for x with angular frequeny w and amplitude amp.\n",
    "    \"\"\"\n",
    "    return amp*np.sin(w * (x-phi))\n",
    " \n",
    " \n",
    "@widgets.interact(w=(0, 10, 1), amp=(0, 4, .1), phi=(0, 2*np.pi+0.01, 0.01))\n",
    "def update(w = 1.0, amp=1, phi=0):\n",
    "    \"\"\"Remove old lines from plot and plot new one\"\"\"\n",
    "    [l.remove() for l in ax.lines]\n",
    "    ax.plot(x, my_sine(x, w, amp, phi), color='C0')"
   ]
  },
  {
   "cell_type": "code",
   "execution_count": 5,
   "id": "2e8ca1b7",
   "metadata": {},
   "outputs": [
    {
     "ename": "ModuleNotFoundError",
     "evalue": "No module named 'qiskit_textbook'",
     "output_type": "error",
     "traceback": [
      "\u001b[1;31m---------------------------------------------------------------------------\u001b[0m",
      "\u001b[1;31mModuleNotFoundError\u001b[0m                       Traceback (most recent call last)",
      "\u001b[1;32m<ipython-input-5-c8269d4e0555>\u001b[0m in \u001b[0;36m<module>\u001b[1;34m\u001b[0m\n\u001b[1;32m----> 1\u001b[1;33m \u001b[1;32mfrom\u001b[0m \u001b[0mqiskit_textbook\u001b[0m\u001b[1;33m.\u001b[0m\u001b[0mwidgets\u001b[0m \u001b[1;32mimport\u001b[0m \u001b[0mscalable_circuit\u001b[0m\u001b[1;33m\u001b[0m\u001b[1;33m\u001b[0m\u001b[0m\n\u001b[0m\u001b[0;32m      2\u001b[0m \u001b[1;32mfrom\u001b[0m \u001b[0mnumpy\u001b[0m \u001b[1;32mimport\u001b[0m \u001b[0mpi\u001b[0m\u001b[1;33m\u001b[0m\u001b[1;33m\u001b[0m\u001b[0m\n\u001b[0;32m      3\u001b[0m \u001b[1;33m\u001b[0m\u001b[0m\n\u001b[0;32m      4\u001b[0m \u001b[1;32mdef\u001b[0m \u001b[0mqft_rotations\u001b[0m\u001b[1;33m(\u001b[0m\u001b[0mcircuit\u001b[0m\u001b[1;33m,\u001b[0m \u001b[0mn\u001b[0m\u001b[1;33m)\u001b[0m\u001b[1;33m:\u001b[0m\u001b[1;33m\u001b[0m\u001b[1;33m\u001b[0m\u001b[0m\n\u001b[0;32m      5\u001b[0m     \u001b[1;34m\"\"\"Performs qft on the first n qubits in circuit (without swaps)\"\"\"\u001b[0m\u001b[1;33m\u001b[0m\u001b[1;33m\u001b[0m\u001b[0m\n",
      "\u001b[1;31mModuleNotFoundError\u001b[0m: No module named 'qiskit_textbook'"
     ]
    }
   ],
   "source": [
    "from qiskit_textbook.widgets import scalable_circuit\n",
    "from numpy import pi\n",
    "\n",
    "def qft_rotations(circuit, n):\n",
    "    \"\"\"Performs qft on the first n qubits in circuit (without swaps)\"\"\"\n",
    "    if n == 0:\n",
    "        return circuit\n",
    "    n -= 1\n",
    "    circuit.h(n)\n",
    "    for qubit in range(n):\n",
    "        circuit.cp(pi/2**(n-qubit), qubit, n)\n",
    "    # At the end of our function, we call the same function again on\n",
    "    # the next qubits (we reduced n by one earlier in the function)\n",
    "    qft_rotations(circuit, n)\n",
    "\n",
    "def swap_qubits(circuit, n):\n",
    "    \"\"\"Reverse the order of qubits\"\"\"\n",
    "    for qubit in range(n//2):\n",
    "        circuit.swap(qubit, n-qubit-1)\n",
    "    return circuit\n",
    "\n",
    "def qft(circuit, n):\n",
    "    \"\"\"QFT on the first n qubits in circuit\"\"\"\n",
    "    qft_rotations(circuit, n)\n",
    "    swap_qubits(circuit, n)\n",
    "    return circuit\n",
    "\n",
    "scalable_circuit(qft)"
   ]
  },
  {
   "cell_type": "code",
   "execution_count": 6,
   "id": "af4dc9fa",
   "metadata": {},
   "outputs": [
    {
     "data": {
      "text/plain": [
       "ipywidgets.widgets.widget_output.Output"
      ]
     },
     "execution_count": 6,
     "metadata": {},
     "output_type": "execute_result"
    }
   ],
   "source": [
    "def circuit_diagram_widget() -> widgets.Box:\n",
    "    \"\"\"Create a circuit diagram widget.\n",
    "\n",
    "    Returns:\n",
    "        Output widget.\n",
    "    \"\"\"\n",
    "    # The max circuit height corresponds to a 20Q circuit with flat\n",
    "    # classical register.\n",
    "    top_out = widgets.Output(layout=widgets.Layout(width='100%',\n",
    "                                           height='auto',\n",
    "                                           max_height='1000px',\n",
    "                                           overflow='hidden scroll',))\n",
    "\n",
    "    top = widgets.Box(children=[top_out], layout=widgets.Layout(width='100%', height='auto'))\n",
    "\n",
    "    return top \n",
    "widgets.Output"
   ]
  },
  {
   "cell_type": "code",
   "execution_count": 7,
   "id": "13565fd1",
   "metadata": {},
   "outputs": [
    {
     "data": {
      "text/plain": [
       "ipywidgets.widgets.widget_float.FloatSlider"
      ]
     },
     "execution_count": 7,
     "metadata": {},
     "output_type": "execute_result"
    }
   ],
   "source": [
    "from ipywidgets import FloatSlider\n",
    "def _interact_frequency(self,freq_val,min_freq=87.5,max_freq=108,freq_step=0.2):\n",
    "        '''\n",
    "        Sets up tuning frequency slider widget for Mono FM Example\n",
    "        '''\n",
    "        self.slider = FloatSlider(\n",
    "            value=freq_val,\n",
    "            min=min_freq,\n",
    "            max=max_freq,\n",
    "            step=freq_step,\n",
    "            description=r'$f_c\\;$',\n",
    "            continuous_update=False,\n",
    "            orientation='horizontal',\n",
    "            readout_format='0.1f',\n",
    "            layout=Layout(\n",
    "                width='90%',\n",
    "            ) \n",
    "        )\n",
    "        self.slider.style.handle_color = 'lightblue'\n",
    "\n",
    "        self.center_freq_widget = interactive(self.set_fc_mhz, fc = self.slider)\n",
    "        display(self.center_freq_widget) \n",
    "        \n",
    "FloatSlider"
   ]
  },
  {
   "cell_type": "code",
   "execution_count": 8,
   "id": "830d102a",
   "metadata": {},
   "outputs": [],
   "source": [
    "import bqplot as bq\n",
    "import numpy as np"
   ]
  },
  {
   "cell_type": "code",
   "execution_count": 9,
   "id": "8161fa43",
   "metadata": {},
   "outputs": [],
   "source": [
    "size = 100\n",
    "np.random.seed(0)\n",
    "\n",
    "x_data = range(size)\n",
    "y_data = np.random.randn(size)\n",
    "y_data_2 = np.random.randn(size)\n",
    "y_data_3 = np.cumsum(np.random.randn(size) * 100.)\n",
    "\n",
    "x_ord = bq.OrdinalScale()\n",
    "y_sc = bq.LinearScale()\n",
    "\n",
    "bar = bq.Bars(x=np.arange(10), y=np.random.rand(10), scales={'x': x_ord, 'y': y_sc})\n",
    "ax_x = bq.Axis(scale=x_ord)\n",
    "ax_y = bq.Axis(scale=y_sc, tick_format='0.2f', orientation='vertical')\n",
    "\n",
    "fig = bq.Figure(marks=[bar], axes=[ax_x, ax_y], padding_x=0.025, padding_y=0.025,\n",
    "                layout=Layout(width='auto', height='90%'))"
   ]
  },
  {
   "cell_type": "code",
   "execution_count": 10,
   "id": "46b8493a",
   "metadata": {},
   "outputs": [
    {
     "data": {
      "application/vnd.jupyter.widget-view+json": {
       "model_id": "4662da8df0514dddade0fe8e57b5cca8",
       "version_major": 2,
       "version_minor": 0
      },
      "text/plain": [
       "TwoByTwoLayout(children=(FloatSlider(value=0.0, description='Min: ', layout=Layout(grid_area='top-left', heigh…"
      ]
     },
     "metadata": {},
     "output_type": "display_data"
    }
   ],
   "source": [
    "from ipywidgets import FloatSlider,TwoByTwoLayout\n",
    "\n",
    "max_slider = FloatSlider(min=0, max=10, default_value=2, description=\"Max: \",\n",
    "                         layout=Layout(width='auto', height='auto'))\n",
    "min_slider = FloatSlider(min=-1, max=10, description=\"Min: \",\n",
    "                         layout=Layout(width='auto', height='auto'))\n",
    "app = TwoByTwoLayout(top_left=min_slider,\n",
    "                     bottom_left=max_slider,\n",
    "                     bottom_right=fig,\n",
    "                     align_items=\"center\",\n",
    "                     height='700px')\n",
    "\n",
    "jslink((y_sc, 'max'), (max_slider, 'value'))\n",
    "jslink((y_sc, 'min'), (min_slider, 'value'))\n",
    "jslink((min_slider, 'max'), (max_slider, 'value'))\n",
    "jslink((max_slider, 'min'), (min_slider, 'value'))\n",
    "\n",
    "max_slider.value = 1.5\n",
    "app"
   ]
  },
  {
   "cell_type": "code",
   "execution_count": null,
   "id": "40ceeb81",
   "metadata": {},
   "outputs": [],
   "source": []
  }
 ],
 "metadata": {
  "hide_input": false,
  "kernelspec": {
   "display_name": "Python 3",
   "language": "python",
   "name": "python3"
  },
  "language_info": {
   "codemirror_mode": {
    "name": "ipython",
    "version": 3
   },
   "file_extension": ".py",
   "mimetype": "text/x-python",
   "name": "python",
   "nbconvert_exporter": "python",
   "pygments_lexer": "ipython3",
   "version": "3.8.8"
  }
 },
 "nbformat": 4,
 "nbformat_minor": 5
}
