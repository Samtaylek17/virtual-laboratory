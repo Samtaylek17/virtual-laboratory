{
 "cells": [
  {
   "cell_type": "markdown",
   "metadata": {},
   "source": [
    "## Connection of voltmeter on a circuit"
   ]
  },
  {
   "cell_type": "markdown",
   "metadata": {},
   "source": [
    "OBJECTIVES"
   ]
  },
  {
   "cell_type": "markdown",
   "metadata": {},
   "source": [
    "<ul>\n",
    "    <li>To further learn how to use the ac/dc power source</li>\n",
    "    <li>To learn the basics of how to properly connect meters in a circuit</li>\n",
    "</ul>"
   ]
  },
  {
   "cell_type": "markdown",
   "metadata": {},
   "source": [
    "<p>A volt is the unit of electrical potential. Voltage is measured by using a Voltmeter. Voltmeters have a high internal resistance and are always connected in parallel with a circuit or component such as a resistor. The usual way of connecting a voltmeter for measuring the potential difference across a component (R5)is as shown in Figure 1.1</p>"
   ]
  },
  {
   "cell_type": "markdown",
   "metadata": {},
   "source": [
    "<h3>\n",
    "    <u>Voltmeter Connected in parallel across load resistor</u>\n",
    "</h3>"
   ]
  },
  {
   "cell_type": "markdown",
   "metadata": {},
   "source": [
    "<p>\n",
    "    Connect the circuit of fig 1.1 and let the instructor check your connections and certify it correct before switching power into your circuit.\n",
    "</p>"
   ]
  },
  {
   "cell_type": "code",
   "execution_count": null,
   "metadata": {},
   "outputs": [],
   "source": []
  },
  {
   "cell_type": "markdown",
   "metadata": {},
   "source": [
    "<p>Note: Make sure that you strictly follow the procedure before switching on the power into your circuit</p>"
   ]
  },
  {
   "cell_type": "markdown",
   "metadata": {},
   "source": [
    "<p>Procedure</p>\n",
    "<ul>\n",
    "    <li>Make sure the power supply is in the off position</li>\n",
    "    <li>For those that were using analogue dc power supply unit, first connect (0-15v or 0-30v)d.c voltmeter or digital multimeter set on 20vdc range across the power supply unit temporarily to enable you set the voltage from the analogue dc power supply unit to the required voltage.</li>\n",
    "    <li>\n",
    "        Record the reading on the digital voltmeter connected across R5    \n",
    "    </li>\n",
    "    <li>Is there any difference between the source voltage and the voltmeter reading? If any, give your reasons for the differences.</li>\n",
    "    \n",
    "</ul>"
   ]
  },
  {
   "cell_type": "code",
   "execution_count": null,
   "metadata": {},
   "outputs": [],
   "source": []
  },
  {
   "cell_type": "code",
   "execution_count": null,
   "metadata": {},
   "outputs": [],
   "source": []
  }
 ],
 "metadata": {
  "hide_input": false,
  "kernelspec": {
   "display_name": "Python 3",
   "language": "python",
   "name": "python3"
  },
  "language_info": {
   "codemirror_mode": {
    "name": "ipython",
    "version": 3
   },
   "file_extension": ".py",
   "mimetype": "text/x-python",
   "name": "python",
   "nbconvert_exporter": "python",
   "pygments_lexer": "ipython3",
   "version": "3.8.5"
  }
 },
 "nbformat": 4,
 "nbformat_minor": 4
}
