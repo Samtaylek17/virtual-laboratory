{
 "cells": [
  {
   "cell_type": "code",
   "execution_count": 1,
   "id": "8bb80b71-1966-4d34-9d55-f6e747d42046",
   "metadata": {},
   "outputs": [
    {
     "data": {
      "application/vnd.jupyter.widget-view+json": {
       "model_id": "21549c9fa46b4df587a273d83988c9cc",
       "version_major": 2,
       "version_minor": 0
      },
      "text/plain": [
       "Dropdown(description='$R_1$:', options=('0.00', '0.0152', '0.119'), value='0.00')"
      ]
     },
     "metadata": {},
     "output_type": "display_data"
    }
   ],
   "source": [
    "from IPython.display import display, Markdown, clear_output\n",
    "import ipywidgets as widgets\n",
    "\n",
    "res1 = widgets.Dropdown(\n",
    "       options=['0.00', '0.0152', '0.119'],\n",
    "       value='0.00',\n",
    "       description='$R_1$:')\n",
    "res1"
   ]
  },
  {
   "cell_type": "code",
   "execution_count": 2,
   "id": "397142d9-b2a2-4794-8aec-5b882fae19d4",
   "metadata": {},
   "outputs": [
    {
     "data": {
      "application/vnd.jupyter.widget-view+json": {
       "model_id": "2c1737bbe9ea4b958a5cd7602346f36c",
       "version_major": 2,
       "version_minor": 0
      },
      "text/plain": [
       "Dropdown(description='$R_2$:', options=('0.00', '0.0152', '0.0119'), value='0.00')"
      ]
     },
     "metadata": {},
     "output_type": "display_data"
    }
   ],
   "source": [
    "res2 = widgets.Dropdown(\n",
    "       options=['0.00', '0.0152', '0.0119'],\n",
    "       value='0.00',\n",
    "       description='$R_2$:')\n",
    "res2"
   ]
  },
  {
   "cell_type": "code",
   "execution_count": 3,
   "id": "57f97e6e-27a9-4991-a225-971849969d00",
   "metadata": {},
   "outputs": [
    {
     "data": {
      "application/vnd.jupyter.widget-view+json": {
       "model_id": "a817a8b68037455da48e2e7120c24161",
       "version_major": 2,
       "version_minor": 0
      },
      "text/plain": [
       "Button(button_style='success', description='Answer!', style=ButtonStyle(), tooltip='good')"
      ]
     },
     "metadata": {},
     "output_type": "display_data"
    },
    {
     "data": {
      "application/vnd.jupyter.widget-view+json": {
       "model_id": "d42b3ac084064402a053ccbc48d878bf",
       "version_major": 2,
       "version_minor": 0
      },
      "text/plain": [
       "Output()"
      ]
     },
     "metadata": {},
     "output_type": "display_data"
    }
   ],
   "source": [
    "R1 = 0.0152\n",
    "R2 = 0.0119\n",
    "\n",
    "R12 = R1 + R2\n",
    "\n",
    "button = widgets.Button(\n",
    "    value=True,\n",
    "    description=\"Answer!\",\n",
    "    disabled=False,\n",
    "    button_style='success', # 'success', 'info', 'warning', 'danger' or ''\n",
    "    tooltip='good')\n",
    "\n",
    "output = widgets.Output()\n",
    "\n",
    "display(button, output)\n",
    "\n",
    "def on_button_clicked(b):\n",
    "    with output:\n",
    "        print('R12 ='+ ' '+ str(R12) + ' '+ 'Ohm')\n",
    "\n",
    "button.on_click(on_button_clicked)"
   ]
  },
  {
   "cell_type": "code",
   "execution_count": null,
   "id": "c3c52c8d",
   "metadata": {},
   "outputs": [],
   "source": []
  },
  {
   "cell_type": "code",
   "execution_count": null,
   "id": "16f4bd1b",
   "metadata": {},
   "outputs": [],
   "source": []
  }
 ],
 "metadata": {
  "hide_input": false,
  "kernelspec": {
   "display_name": "Python 3",
   "language": "python",
   "name": "python3"
  },
  "language_info": {
   "codemirror_mode": {
    "name": "ipython",
    "version": 3
   },
   "file_extension": ".py",
   "mimetype": "text/x-python",
   "name": "python",
   "nbconvert_exporter": "python",
   "pygments_lexer": "ipython3",
   "version": "3.8.8"
  }
 },
 "nbformat": 4,
 "nbformat_minor": 5
}
