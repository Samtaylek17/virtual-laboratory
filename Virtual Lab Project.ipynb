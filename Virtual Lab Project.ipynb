{
 "cells": [
  {
   "cell_type": "markdown",
   "metadata": {},
   "source": [
    "## Network Theorems "
   ]
  },
  {
   "cell_type": "code",
   "execution_count": 8,
   "metadata": {},
   "outputs": [],
   "source": [
    "from IPython.display import display, Markdown, clear_output\n",
    "import ipywidgets as widgets\n",
    "\n",
    "answerInput = widgets.Text(value='', description='Observation')\n",
    "question1 = widgets.Text(value='', description='Shape of graph for component I')\n",
    "question2 = widgets.Text(value='', description='Conclusion derived as to the relationship between current and voltage for component I')\n",
    "question3 = widgets.Dropdown(options=['Yes', 'No'], description='With component 2, is the graph the same gain as before?')\n",
    "question4 = widgets.Text(value='', description='What is the slope of the second graph')\n",
    "question5 = widgets.Text(value='', description='What is the slope of the third graph')\n",
    "question6 = widgets.Text(value='', description='What is the slope of the fourth graph')\n",
    "\n"
   ]
  },
  {
   "cell_type": "markdown",
   "metadata": {},
   "source": [
    "<p>In this experiment, students will investigate the following network theorems:</p>"
   ]
  },
  {
   "cell_type": "markdown",
   "metadata": {},
   "source": [
    "<ul>\n",
    "    <li>Kirchoff's Law</li>\n",
    "    <li>Superposition theorems</li>\n",
    "    <li>Thevenin's theorem</li>\n",
    "</ul>"
   ]
  },
  {
   "cell_type": "markdown",
   "metadata": {},
   "source": [
    "<p>Students will be made to</p>\n",
    "\n",
    "(a) explore the idea of resistance of a component <br>\n",
    "(b) investigate the connection of resistors in series and in parallel in a circuit<br>\n",
    "(c) determine the total current $I_{T}$ in a circuit containing resistors connected in parallel and<br>\n",
    "(d) investigate series/parallel circuits and lines circuit Thevenin theorem.\n"
   ]
  },
  {
   "cell_type": "markdown",
   "metadata": {},
   "source": [
    "<h3>Resistance of a Components</h3>"
   ]
  },
  {
   "cell_type": "markdown",
   "metadata": {},
   "source": [
    "<p>Theory: Conductors that are manufactured to have particular values of resistance are called 'RESISTORS'</p>"
   ]
  },
  {
   "cell_type": "markdown",
   "metadata": {},
   "source": [
    "<p>This component is used in various parts of electrical circuit to control the flow of current in that circuit. Since energy is dissipated as heat in a resistor, the design of a resistor for a particular purpose must take into consideration both the value of resistance and power, so that the temperature of the resistor does not exceed a safe value.</p>"
   ]
  },
  {
   "cell_type": "markdown",
   "metadata": {},
   "source": [
    "<h4>Apparatus Required</h4>"
   ]
  },
  {
   "cell_type": "markdown",
   "metadata": {},
   "source": [
    "1. Digital Multi-meter\n",
    "2. Variable DC Power Supply\n",
    "3. Module, type 292A\n",
    "4. Milliameters, DC 0-1mA, 0-100mA\n",
    "5. Ammeter, d.c. 0-1A\n",
    "6. Voltmeter, d.c. 0-15V\n",
    "7. Connecting wires,"
   ]
  },
  {
   "cell_type": "markdown",
   "metadata": {},
   "source": [
    "<h4>Procedure:</h4>"
   ]
  },
  {
   "cell_type": "markdown",
   "metadata": {},
   "source": [
    "<p>(a) Connect up the circuit connection as shown in <b>Fig. 2.1.</b> The module equivalent circuit is as in Fig. 2.0(not shown)</p>"
   ]
  },
  {
   "cell_type": "markdown",
   "metadata": {},
   "source": [
    "<p>*Now, return the power supply back to fully counterclock wise i.e. zero d.c position</p>"
   ]
  },
  {
   "cell_type": "markdown",
   "metadata": {},
   "source": [
    "![](Circuit.jpeg)"
   ]
  },
  {
   "cell_type": "markdown",
   "metadata": {},
   "source": [
    "<p style=\"text-align:center;\">Figure 2.1</p>"
   ]
  },
  {
   "cell_type": "markdown",
   "metadata": {},
   "source": [
    "<p>Please, after the connection is made, <i><u>Strictly</u></i> follow the procedure that follow before switching on the power supply.<p>"
   ]
  },
  {
   "cell_type": "markdown",
   "metadata": {},
   "source": [
    "<ol>\n",
    "    <li>Make sure that the variable adjust control knob is <b>fully counter-clockwise,</b> and the <b>current-adjust / current limit</b> control knob <b>(if any)</b> adjusted to <b>fully-clockwise position.</b></li>\n",
    "    <li>Always allow the instructor cross-check your connections and certify them correct before switching power into your circuit</li>\n",
    "    <li>Then switch on the power supply unit. The voltage output from the power supply should read zero.</li>\n",
    "    <li>\n",
    "        Gradually increase the applied voltage in step of 1volt, between 0 and 15V (using <b>coarse</b> and <b>fine</b> adjust control knobs) of the power supply <b>(if any)</b> and at each step measure the current flowing in '1' on the module 292A</li>\n",
    "    <li>Make sure you take all the readings for <b>component 1</b> before you start procedure for <b>component 2 etc.</b>      </li>\n",
    "   <li>\n",
    "        Also, make a table of current against voltage as shown in Table 2-1. Then plot a graph of V against I. on the graph sheet provided.\n",
    "       <table style=\"width: 80%; border: 1px solid; text-align: center;\">\n",
    "            <tr>\n",
    "                <th>Applied Volts (V)</th>\n",
    "                <th>Comp. 1</th>\n",
    "                <th>2</th>        \n",
    "                <th>3</th>\n",
    "                <th>4</th>\n",
    "            </tr>\n",
    "            <tr>\n",
    "                <td>1.0</td>\n",
    "                <td></td>\n",
    "                <td></td>\n",
    "                <td></td>\n",
    "                <td></td>\n",
    "            </tr>\n",
    "            <tr>\n",
    "                <td>2.0</td>\n",
    "                <td></td>\n",
    "                <td></td>\n",
    "                <td></td>\n",
    "                <td></td>\n",
    "            </tr>\n",
    "            <tr>\n",
    "                <td>3.0</td>\n",
    "                <td></td>\n",
    "                <td></td>\n",
    "                <td></td>\n",
    "                <td></td>\n",
    "            </tr>\n",
    "            <tr>\n",
    "                <td>4.0</td>\n",
    "                <td></td>\n",
    "                <td></td>\n",
    "                <td></td>\n",
    "                <td></td>\n",
    "            </tr>\n",
    "            <tr>\n",
    "                <td>5.0</td>\n",
    "                <td></td>\n",
    "                <td></td>\n",
    "                <td></td>\n",
    "                <td></td>\n",
    "            </tr>\n",
    "            <tr>\n",
    "                <td>6.0</td>\n",
    "                <td></td>\n",
    "                <td></td>\n",
    "                <td></td>\n",
    "                <td></td>\n",
    "            </tr>\n",
    "            <tr>\n",
    "                <td>7.0</td>\n",
    "                <td></td>\n",
    "                <td></td>\n",
    "                <td></td>\n",
    "                <td></td>\n",
    "            </tr>\n",
    "            <tr>\n",
    "                <td>8.0</td>\n",
    "                <td></td>\n",
    "                <td></td>\n",
    "                <td></td>\n",
    "                <td></td>\n",
    "            </tr>\n",
    "            <tr>\n",
    "                <td>9.0</td>\n",
    "                <td></td>\n",
    "                <td></td>\n",
    "                <td></td>\n",
    "                <td></td>\n",
    "            </tr>\n",
    "            <tr>\n",
    "                <td>10.0</td>\n",
    "                <td></td>\n",
    "                <td></td>\n",
    "                <td></td>\n",
    "                <td></td>\n",
    "            </tr>\n",
    "        </table>\n",
    "        <p style=\"text-align: center\"><b>Table 2-1</b></p>\n",
    "   </li>   \n",
    "    <li>After the procedure for <b>component 1.</b> Turn the Power Supply Unit back to zero. Then, <b>change the range of the ammeter from 0-1A to 0-10mA or 0-100mA range</b> if necessary; this is done in order to improve the sensitivity f the meter for <b>component 2.</b>\n",
    "    </li>\n",
    "    <li>Connect up <b>component 2</b> and repeat procedure (5) for this <b>component.</b> Make a table of <b>voltage</b> and <b>current</b> as before. Please take note of the unit for the current measured.</li>\n",
    "     <li>\n",
    "          <p>Connect up <b>component 3</b> using the same procedure and set-up with first <b>0-1mA and later 0-10mA or even 0-100mA range</b> if necessary.</p>\n",
    "     </li>\n",
    "\n",
    "</ol>"
   ]
  },
  {
   "cell_type": "markdown",
   "metadata": {},
   "source": [
    "<p>Now, connect <b>component 4,</b> change the range of ammeter to <b>0 - 0.1mA</b> range. <br> Repeat the procedures as before. What do you observe and comment on your result?</p>\n",
    "\n",
    "<hr>\n",
    "\n"
   ]
  },
  {
   "cell_type": "markdown",
   "metadata": {},
   "source": [
    "<p>Now, connect <b>component 4,</b> change the range of ammeter to <b>0 - 0.1mA</b> range. <br> Repeat the procedures as before. What do you observe and comment on your result?</p>\n",
    "\n",
    "<hr>\n",
    "\n",
    "\n"
   ]
  },
  {
   "cell_type": "code",
   "execution_count": 5,
   "metadata": {
    "scrolled": true
   },
   "outputs": [
    {
     "data": {
      "application/vnd.jupyter.widget-view+json": {
       "model_id": "eda4a891126a44f9847614638de1c3d7",
       "version_major": 2,
       "version_minor": 0
      },
      "text/plain": [
       "Text(value='', description='Observation')"
      ]
     },
     "metadata": {},
     "output_type": "display_data"
    }
   ],
   "source": [
    "answerInput"
   ]
  },
  {
   "cell_type": "markdown",
   "metadata": {},
   "source": [
    "<h6>Exercise</h6>"
   ]
  },
  {
   "cell_type": "markdown",
   "metadata": {},
   "source": [
    "<ol>\n",
    "    <li>What is the shape of the graph you obtained for <b>component 1</b></li>\n",
    "    <li>With this shape of graph, what conclusion can be derived as to the relationship between current and voltage for <b>component 1</b></li>\n",
    "    <li>Calculate the slope of the graph obtained. Record the result in<b>table 2-2</b></li>\n",
    "    <li>With <b>component 2,</b> is the graph the same gain as before?</li>\n",
    "    <li>What is the slope of the second graph?</li>\n",
    "    <li>Find also the graph shape and slopes of components 3 and 4</li>\n",
    "</ol>"
   ]
  },
  {
   "cell_type": "code",
   "execution_count": 18,
   "metadata": {},
   "outputs": [
    {
     "data": {
      "application/vnd.jupyter.widget-view+json": {
       "model_id": "c47c2671cec74a138ce34118f6122993",
       "version_major": 2,
       "version_minor": 0
      },
      "text/plain": [
       "VBox(children=(Text(value='', description='Shape of graph for component I'), Text(value='', description='Concl…"
      ]
     },
     "metadata": {},
     "output_type": "display_data"
    }
   ],
   "source": [
    "box = widgets.VBox([question1, question2, question3, question4, question5, question6])\n",
    "box"
   ]
  },
  {
   "cell_type": "code",
   "execution_count": null,
   "metadata": {},
   "outputs": [],
   "source": []
  }
 ],
 "metadata": {
  "kernelspec": {
   "display_name": "Python 3",
   "language": "python",
   "name": "python3"
  },
  "language_info": {
   "codemirror_mode": {
    "name": "ipython",
    "version": 3
   },
   "file_extension": ".py",
   "mimetype": "text/x-python",
   "name": "python",
   "nbconvert_exporter": "python",
   "pygments_lexer": "ipython3",
   "version": "3.8.5"
  }
 },
 "nbformat": 4,
 "nbformat_minor": 4
}
